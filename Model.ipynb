{
 "cells": [
  {
   "cell_type": "code",
   "execution_count": 1,
   "id": "e44ecee1",
   "metadata": {},
   "outputs": [],
   "source": [
    "import pandas as pd\n",
    "import numpy as np\n",
    "import datetime"
   ]
  },
  {
   "cell_type": "code",
   "execution_count": 2,
   "id": "f0c1aeea",
   "metadata": {},
   "outputs": [
    {
     "data": {
      "text/html": [
       "<div>\n",
       "<style scoped>\n",
       "    .dataframe tbody tr th:only-of-type {\n",
       "        vertical-align: middle;\n",
       "    }\n",
       "\n",
       "    .dataframe tbody tr th {\n",
       "        vertical-align: top;\n",
       "    }\n",
       "\n",
       "    .dataframe thead th {\n",
       "        text-align: right;\n",
       "    }\n",
       "</style>\n",
       "<table border=\"1\" class=\"dataframe\">\n",
       "  <thead>\n",
       "    <tr style=\"text-align: right;\">\n",
       "      <th></th>\n",
       "      <th>DateTime</th>\n",
       "      <th>Junction</th>\n",
       "      <th>Vehicles</th>\n",
       "      <th>ID</th>\n",
       "    </tr>\n",
       "  </thead>\n",
       "  <tbody>\n",
       "    <tr>\n",
       "      <th>0</th>\n",
       "      <td>2015-11-01 00:00:00</td>\n",
       "      <td>1</td>\n",
       "      <td>15</td>\n",
       "      <td>20151101001</td>\n",
       "    </tr>\n",
       "    <tr>\n",
       "      <th>1</th>\n",
       "      <td>2015-11-01 01:00:00</td>\n",
       "      <td>1</td>\n",
       "      <td>13</td>\n",
       "      <td>20151101011</td>\n",
       "    </tr>\n",
       "    <tr>\n",
       "      <th>2</th>\n",
       "      <td>2015-11-01 02:00:00</td>\n",
       "      <td>1</td>\n",
       "      <td>10</td>\n",
       "      <td>20151101021</td>\n",
       "    </tr>\n",
       "    <tr>\n",
       "      <th>3</th>\n",
       "      <td>2015-11-01 03:00:00</td>\n",
       "      <td>1</td>\n",
       "      <td>7</td>\n",
       "      <td>20151101031</td>\n",
       "    </tr>\n",
       "    <tr>\n",
       "      <th>4</th>\n",
       "      <td>2015-11-01 04:00:00</td>\n",
       "      <td>1</td>\n",
       "      <td>9</td>\n",
       "      <td>20151101041</td>\n",
       "    </tr>\n",
       "  </tbody>\n",
       "</table>\n",
       "</div>"
      ],
      "text/plain": [
       "             DateTime  Junction  Vehicles           ID\n",
       "0 2015-11-01 00:00:00         1        15  20151101001\n",
       "1 2015-11-01 01:00:00         1        13  20151101011\n",
       "2 2015-11-01 02:00:00         1        10  20151101021\n",
       "3 2015-11-01 03:00:00         1         7  20151101031\n",
       "4 2015-11-01 04:00:00         1         9  20151101041"
      ]
     },
     "execution_count": 2,
     "metadata": {},
     "output_type": "execute_result"
    }
   ],
   "source": [
    "df_train=pd.read_csv(\"train_aWnotuB.csv\",parse_dates=['DateTime'])\n",
    "df_train.head()"
   ]
  },
  {
   "cell_type": "code",
   "execution_count": 3,
   "id": "c560ed83",
   "metadata": {},
   "outputs": [
    {
     "data": {
      "text/html": [
       "<div>\n",
       "<style scoped>\n",
       "    .dataframe tbody tr th:only-of-type {\n",
       "        vertical-align: middle;\n",
       "    }\n",
       "\n",
       "    .dataframe tbody tr th {\n",
       "        vertical-align: top;\n",
       "    }\n",
       "\n",
       "    .dataframe thead th {\n",
       "        text-align: right;\n",
       "    }\n",
       "</style>\n",
       "<table border=\"1\" class=\"dataframe\">\n",
       "  <thead>\n",
       "    <tr style=\"text-align: right;\">\n",
       "      <th></th>\n",
       "      <th>DateTime</th>\n",
       "      <th>Junction</th>\n",
       "      <th>ID</th>\n",
       "    </tr>\n",
       "  </thead>\n",
       "  <tbody>\n",
       "    <tr>\n",
       "      <th>0</th>\n",
       "      <td>2017-07-01 00:00:00</td>\n",
       "      <td>1</td>\n",
       "      <td>20170701001</td>\n",
       "    </tr>\n",
       "    <tr>\n",
       "      <th>1</th>\n",
       "      <td>2017-07-01 01:00:00</td>\n",
       "      <td>1</td>\n",
       "      <td>20170701011</td>\n",
       "    </tr>\n",
       "    <tr>\n",
       "      <th>2</th>\n",
       "      <td>2017-07-01 02:00:00</td>\n",
       "      <td>1</td>\n",
       "      <td>20170701021</td>\n",
       "    </tr>\n",
       "    <tr>\n",
       "      <th>3</th>\n",
       "      <td>2017-07-01 03:00:00</td>\n",
       "      <td>1</td>\n",
       "      <td>20170701031</td>\n",
       "    </tr>\n",
       "    <tr>\n",
       "      <th>4</th>\n",
       "      <td>2017-07-01 04:00:00</td>\n",
       "      <td>1</td>\n",
       "      <td>20170701041</td>\n",
       "    </tr>\n",
       "  </tbody>\n",
       "</table>\n",
       "</div>"
      ],
      "text/plain": [
       "             DateTime  Junction           ID\n",
       "0 2017-07-01 00:00:00         1  20170701001\n",
       "1 2017-07-01 01:00:00         1  20170701011\n",
       "2 2017-07-01 02:00:00         1  20170701021\n",
       "3 2017-07-01 03:00:00         1  20170701031\n",
       "4 2017-07-01 04:00:00         1  20170701041"
      ]
     },
     "execution_count": 3,
     "metadata": {},
     "output_type": "execute_result"
    }
   ],
   "source": [
    "df_test=pd.read_csv(\"test_BdBKkAj.csv\",parse_dates=['DateTime'])\n",
    "df_test.head()"
   ]
  },
  {
   "cell_type": "code",
   "execution_count": 4,
   "id": "437168e7",
   "metadata": {},
   "outputs": [
    {
     "data": {
      "text/plain": [
       "(48120, 4)"
      ]
     },
     "execution_count": 4,
     "metadata": {},
     "output_type": "execute_result"
    }
   ],
   "source": [
    "df_train.shape"
   ]
  },
  {
   "cell_type": "code",
   "execution_count": 5,
   "id": "499782d1",
   "metadata": {},
   "outputs": [
    {
     "data": {
      "text/plain": [
       "(11808, 3)"
      ]
     },
     "execution_count": 5,
     "metadata": {},
     "output_type": "execute_result"
    }
   ],
   "source": [
    "df_test.shape"
   ]
  },
  {
   "cell_type": "code",
   "execution_count": 6,
   "id": "10d1a76f",
   "metadata": {},
   "outputs": [
    {
     "data": {
      "text/plain": [
       "DateTime    0\n",
       "Junction    0\n",
       "Vehicles    0\n",
       "ID          0\n",
       "dtype: int64"
      ]
     },
     "execution_count": 6,
     "metadata": {},
     "output_type": "execute_result"
    }
   ],
   "source": [
    "df_train.isnull().sum()"
   ]
  },
  {
   "cell_type": "code",
   "execution_count": 7,
   "id": "bd46e1bf",
   "metadata": {},
   "outputs": [
    {
     "data": {
      "text/plain": [
       "DateTime    0\n",
       "Junction    0\n",
       "ID          0\n",
       "dtype: int64"
      ]
     },
     "execution_count": 7,
     "metadata": {},
     "output_type": "execute_result"
    }
   ],
   "source": [
    "df_test.isnull().sum()"
   ]
  },
  {
   "cell_type": "code",
   "execution_count": 8,
   "id": "7c57173e",
   "metadata": {},
   "outputs": [],
   "source": [
    "df_tmp = df_train.set_index(['Junction','DateTime'])"
   ]
  },
  {
   "cell_type": "code",
   "execution_count": 9,
   "id": "4df3974b",
   "metadata": {},
   "outputs": [],
   "source": [
    "level_values = df_tmp.index.get_level_values"
   ]
  },
  {
   "cell_type": "code",
   "execution_count": 10,
   "id": "6556eb55",
   "metadata": {},
   "outputs": [
    {
     "data": {
      "text/plain": [
       "Junction  DateTime  \n",
       "1         2015-11-30    14736\n",
       "          2015-12-31    15487\n",
       "          2016-01-31    17940\n",
       "          2016-02-29    20813\n",
       "          2016-03-31    22215\n",
       "                        ...  \n",
       "4         2017-02-28     5564\n",
       "          2017-03-31     4931\n",
       "          2017-04-30     4454\n",
       "          2017-05-31     4877\n",
       "          2017-06-30     6097\n",
       "Name: Vehicles, Length: 66, dtype: int64"
      ]
     },
     "execution_count": 10,
     "metadata": {},
     "output_type": "execute_result"
    }
   ],
   "source": [
    "time_targets = df_tmp.groupby([level_values(0)] + [pd.Grouper(freq='1M', level=-1)])['Vehicles'].sum()\n",
    "time_targets"
   ]
  },
  {
   "cell_type": "code",
   "execution_count": 11,
   "id": "bb84b678",
   "metadata": {},
   "outputs": [],
   "source": [
    "del df_tmp\n",
    "del time_targets"
   ]
  },
  {
   "cell_type": "markdown",
   "id": "b7eeaf9a",
   "metadata": {},
   "source": [
    "# Lag Features"
   ]
  },
  {
   "cell_type": "code",
   "execution_count": 12,
   "id": "99aaef56",
   "metadata": {},
   "outputs": [
    {
     "data": {
      "text/html": [
       "<div>\n",
       "<style scoped>\n",
       "    .dataframe tbody tr th:only-of-type {\n",
       "        vertical-align: middle;\n",
       "    }\n",
       "\n",
       "    .dataframe tbody tr th {\n",
       "        vertical-align: top;\n",
       "    }\n",
       "\n",
       "    .dataframe thead th {\n",
       "        text-align: right;\n",
       "    }\n",
       "</style>\n",
       "<table border=\"1\" class=\"dataframe\">\n",
       "  <thead>\n",
       "    <tr style=\"text-align: right;\">\n",
       "      <th>Junction</th>\n",
       "      <th>1</th>\n",
       "      <th>2</th>\n",
       "      <th>3</th>\n",
       "      <th>4</th>\n",
       "    </tr>\n",
       "    <tr>\n",
       "      <th>DateTime</th>\n",
       "      <th></th>\n",
       "      <th></th>\n",
       "      <th></th>\n",
       "      <th></th>\n",
       "    </tr>\n",
       "  </thead>\n",
       "  <tbody>\n",
       "    <tr>\n",
       "      <th>2015-11-01 00:00:00</th>\n",
       "      <td>15.0</td>\n",
       "      <td>6.0</td>\n",
       "      <td>9.0</td>\n",
       "      <td>NaN</td>\n",
       "    </tr>\n",
       "    <tr>\n",
       "      <th>2015-11-01 01:00:00</th>\n",
       "      <td>13.0</td>\n",
       "      <td>6.0</td>\n",
       "      <td>7.0</td>\n",
       "      <td>NaN</td>\n",
       "    </tr>\n",
       "    <tr>\n",
       "      <th>2015-11-01 02:00:00</th>\n",
       "      <td>10.0</td>\n",
       "      <td>5.0</td>\n",
       "      <td>5.0</td>\n",
       "      <td>NaN</td>\n",
       "    </tr>\n",
       "    <tr>\n",
       "      <th>2015-11-01 03:00:00</th>\n",
       "      <td>7.0</td>\n",
       "      <td>6.0</td>\n",
       "      <td>1.0</td>\n",
       "      <td>NaN</td>\n",
       "    </tr>\n",
       "    <tr>\n",
       "      <th>2015-11-01 04:00:00</th>\n",
       "      <td>9.0</td>\n",
       "      <td>7.0</td>\n",
       "      <td>2.0</td>\n",
       "      <td>NaN</td>\n",
       "    </tr>\n",
       "    <tr>\n",
       "      <th>...</th>\n",
       "      <td>...</td>\n",
       "      <td>...</td>\n",
       "      <td>...</td>\n",
       "      <td>...</td>\n",
       "    </tr>\n",
       "    <tr>\n",
       "      <th>2017-06-30 19:00:00</th>\n",
       "      <td>105.0</td>\n",
       "      <td>34.0</td>\n",
       "      <td>33.0</td>\n",
       "      <td>11.0</td>\n",
       "    </tr>\n",
       "    <tr>\n",
       "      <th>2017-06-30 20:00:00</th>\n",
       "      <td>96.0</td>\n",
       "      <td>35.0</td>\n",
       "      <td>31.0</td>\n",
       "      <td>30.0</td>\n",
       "    </tr>\n",
       "    <tr>\n",
       "      <th>2017-06-30 21:00:00</th>\n",
       "      <td>90.0</td>\n",
       "      <td>31.0</td>\n",
       "      <td>28.0</td>\n",
       "      <td>16.0</td>\n",
       "    </tr>\n",
       "    <tr>\n",
       "      <th>2017-06-30 22:00:00</th>\n",
       "      <td>84.0</td>\n",
       "      <td>29.0</td>\n",
       "      <td>26.0</td>\n",
       "      <td>22.0</td>\n",
       "    </tr>\n",
       "    <tr>\n",
       "      <th>2017-06-30 23:00:00</th>\n",
       "      <td>78.0</td>\n",
       "      <td>27.0</td>\n",
       "      <td>39.0</td>\n",
       "      <td>12.0</td>\n",
       "    </tr>\n",
       "  </tbody>\n",
       "</table>\n",
       "<p>14592 rows × 4 columns</p>\n",
       "</div>"
      ],
      "text/plain": [
       "Junction                 1     2     3     4\n",
       "DateTime                                    \n",
       "2015-11-01 00:00:00   15.0   6.0   9.0   NaN\n",
       "2015-11-01 01:00:00   13.0   6.0   7.0   NaN\n",
       "2015-11-01 02:00:00   10.0   5.0   5.0   NaN\n",
       "2015-11-01 03:00:00    7.0   6.0   1.0   NaN\n",
       "2015-11-01 04:00:00    9.0   7.0   2.0   NaN\n",
       "...                    ...   ...   ...   ...\n",
       "2017-06-30 19:00:00  105.0  34.0  33.0  11.0\n",
       "2017-06-30 20:00:00   96.0  35.0  31.0  30.0\n",
       "2017-06-30 21:00:00   90.0  31.0  28.0  16.0\n",
       "2017-06-30 22:00:00   84.0  29.0  26.0  22.0\n",
       "2017-06-30 23:00:00   78.0  27.0  39.0  12.0\n",
       "\n",
       "[14592 rows x 4 columns]"
      ]
     },
     "execution_count": 12,
     "metadata": {},
     "output_type": "execute_result"
    }
   ],
   "source": [
    "train = df_train.pivot(index='DateTime', columns='Junction', values='Vehicles')\n",
    "train"
   ]
  },
  {
   "cell_type": "code",
   "execution_count": 13,
   "id": "11beef1c",
   "metadata": {},
   "outputs": [
    {
     "data": {
      "text/plain": [
       "Junction\n",
       "1        0\n",
       "2        0\n",
       "3        0\n",
       "4    10248\n",
       "dtype: int64"
      ]
     },
     "execution_count": 13,
     "metadata": {},
     "output_type": "execute_result"
    }
   ],
   "source": [
    "train.isnull().sum()"
   ]
  },
  {
   "cell_type": "code",
   "execution_count": 14,
   "id": "e0962dd3",
   "metadata": {},
   "outputs": [
    {
     "name": "stdout",
     "output_type": "stream",
     "text": [
      "<class 'pandas.core.frame.DataFrame'>\n",
      "DatetimeIndex: 14592 entries, 2015-11-01 00:00:00 to 2017-06-30 23:00:00\n",
      "Data columns (total 4 columns):\n",
      " #   Column  Non-Null Count  Dtype  \n",
      "---  ------  --------------  -----  \n",
      " 0   1       14592 non-null  float64\n",
      " 1   2       14592 non-null  float64\n",
      " 2   3       14592 non-null  float64\n",
      " 3   4       4344 non-null   float64\n",
      "dtypes: float64(4)\n",
      "memory usage: 570.0 KB\n"
     ]
    }
   ],
   "source": [
    "train.info()"
   ]
  },
  {
   "cell_type": "code",
   "execution_count": 15,
   "id": "5abe5d5d",
   "metadata": {},
   "outputs": [
    {
     "data": {
      "text/plain": [
       "36.0"
      ]
     },
     "execution_count": 15,
     "metadata": {},
     "output_type": "execute_result"
    }
   ],
   "source": [
    "value=round(train[4].max())/1.0\n",
    "value"
   ]
  },
  {
   "cell_type": "code",
   "execution_count": 16,
   "id": "0d960bfb",
   "metadata": {},
   "outputs": [],
   "source": [
    "train = train.fillna(value)"
   ]
  },
  {
   "cell_type": "code",
   "execution_count": 17,
   "id": "20c06b7a",
   "metadata": {},
   "outputs": [
    {
     "data": {
      "text/plain": [
       "Junction\n",
       "1    0\n",
       "2    0\n",
       "3    0\n",
       "4    0\n",
       "dtype: int64"
      ]
     },
     "execution_count": 17,
     "metadata": {},
     "output_type": "execute_result"
    }
   ],
   "source": [
    "train.isnull().sum()"
   ]
  },
  {
   "cell_type": "markdown",
   "id": "b874c808",
   "metadata": {},
   "source": [
    "# Generate lag features"
   ]
  },
  {
   "cell_type": "code",
   "execution_count": 18,
   "id": "a4503b31",
   "metadata": {},
   "outputs": [],
   "source": [
    "def gen_lag_features(df, n_in=1,n_out=1,dropnan=True):\n",
    "    n_vars = df.shape[1]\n",
    "    cols, names = list(), list()\n",
    "    #input sequence (t-n,.....t-1)\n",
    "    for i in range(n_in,0,-1):\n",
    "        cols.append(df.shift(i))\n",
    "        names+=[('Junction %d (H-%d)' %(j+1, i)) for j in range(n_vars)]\n",
    "    # forecast sequence (t,t+1,.....t+n)\n",
    "    for i in range(0,n_out):\n",
    "        cols.append(df.shift(-i))\n",
    "        if i == 0:\n",
    "            names+=[('Junction %d (H)' %(j+1)) for j in range(n_vars)]\n",
    "        else:\n",
    "            names+=[('Junction %d (H+%d)' %(j+1,i)) for j in range(n_vars)]\n",
    "    #put it all together\n",
    "    agg = pd.concat(cols,axis=1)\n",
    "    agg.columns = names\n",
    "    # drop rows with NaN values\n",
    "    if dropnan:\n",
    "        agg.dropna(inplace=True)\n",
    "    return agg"
   ]
  },
  {
   "cell_type": "code",
   "execution_count": 19,
   "id": "d8b50bb1",
   "metadata": {},
   "outputs": [
    {
     "data": {
      "text/html": [
       "<div>\n",
       "<style scoped>\n",
       "    .dataframe tbody tr th:only-of-type {\n",
       "        vertical-align: middle;\n",
       "    }\n",
       "\n",
       "    .dataframe tbody tr th {\n",
       "        vertical-align: top;\n",
       "    }\n",
       "\n",
       "    .dataframe thead th {\n",
       "        text-align: right;\n",
       "    }\n",
       "</style>\n",
       "<table border=\"1\" class=\"dataframe\">\n",
       "  <thead>\n",
       "    <tr style=\"text-align: right;\">\n",
       "      <th></th>\n",
       "      <th>Junction 1 (H-1)</th>\n",
       "      <th>Junction 2 (H-1)</th>\n",
       "      <th>Junction 3 (H-1)</th>\n",
       "      <th>Junction 4 (H-1)</th>\n",
       "      <th>Junction 1 (H)</th>\n",
       "      <th>Junction 2 (H)</th>\n",
       "      <th>Junction 3 (H)</th>\n",
       "      <th>Junction 4 (H)</th>\n",
       "    </tr>\n",
       "    <tr>\n",
       "      <th>DateTime</th>\n",
       "      <th></th>\n",
       "      <th></th>\n",
       "      <th></th>\n",
       "      <th></th>\n",
       "      <th></th>\n",
       "      <th></th>\n",
       "      <th></th>\n",
       "      <th></th>\n",
       "    </tr>\n",
       "  </thead>\n",
       "  <tbody>\n",
       "    <tr>\n",
       "      <th>2015-11-01 01:00:00</th>\n",
       "      <td>15.0</td>\n",
       "      <td>6.0</td>\n",
       "      <td>9.0</td>\n",
       "      <td>36.0</td>\n",
       "      <td>13.0</td>\n",
       "      <td>6.0</td>\n",
       "      <td>7.0</td>\n",
       "      <td>36.0</td>\n",
       "    </tr>\n",
       "    <tr>\n",
       "      <th>2015-11-01 02:00:00</th>\n",
       "      <td>13.0</td>\n",
       "      <td>6.0</td>\n",
       "      <td>7.0</td>\n",
       "      <td>36.0</td>\n",
       "      <td>10.0</td>\n",
       "      <td>5.0</td>\n",
       "      <td>5.0</td>\n",
       "      <td>36.0</td>\n",
       "    </tr>\n",
       "    <tr>\n",
       "      <th>2015-11-01 03:00:00</th>\n",
       "      <td>10.0</td>\n",
       "      <td>5.0</td>\n",
       "      <td>5.0</td>\n",
       "      <td>36.0</td>\n",
       "      <td>7.0</td>\n",
       "      <td>6.0</td>\n",
       "      <td>1.0</td>\n",
       "      <td>36.0</td>\n",
       "    </tr>\n",
       "    <tr>\n",
       "      <th>2015-11-01 04:00:00</th>\n",
       "      <td>7.0</td>\n",
       "      <td>6.0</td>\n",
       "      <td>1.0</td>\n",
       "      <td>36.0</td>\n",
       "      <td>9.0</td>\n",
       "      <td>7.0</td>\n",
       "      <td>2.0</td>\n",
       "      <td>36.0</td>\n",
       "    </tr>\n",
       "    <tr>\n",
       "      <th>2015-11-01 05:00:00</th>\n",
       "      <td>9.0</td>\n",
       "      <td>7.0</td>\n",
       "      <td>2.0</td>\n",
       "      <td>36.0</td>\n",
       "      <td>6.0</td>\n",
       "      <td>2.0</td>\n",
       "      <td>2.0</td>\n",
       "      <td>36.0</td>\n",
       "    </tr>\n",
       "    <tr>\n",
       "      <th>...</th>\n",
       "      <td>...</td>\n",
       "      <td>...</td>\n",
       "      <td>...</td>\n",
       "      <td>...</td>\n",
       "      <td>...</td>\n",
       "      <td>...</td>\n",
       "      <td>...</td>\n",
       "      <td>...</td>\n",
       "    </tr>\n",
       "    <tr>\n",
       "      <th>2017-06-30 19:00:00</th>\n",
       "      <td>95.0</td>\n",
       "      <td>34.0</td>\n",
       "      <td>38.0</td>\n",
       "      <td>17.0</td>\n",
       "      <td>105.0</td>\n",
       "      <td>34.0</td>\n",
       "      <td>33.0</td>\n",
       "      <td>11.0</td>\n",
       "    </tr>\n",
       "    <tr>\n",
       "      <th>2017-06-30 20:00:00</th>\n",
       "      <td>105.0</td>\n",
       "      <td>34.0</td>\n",
       "      <td>33.0</td>\n",
       "      <td>11.0</td>\n",
       "      <td>96.0</td>\n",
       "      <td>35.0</td>\n",
       "      <td>31.0</td>\n",
       "      <td>30.0</td>\n",
       "    </tr>\n",
       "    <tr>\n",
       "      <th>2017-06-30 21:00:00</th>\n",
       "      <td>96.0</td>\n",
       "      <td>35.0</td>\n",
       "      <td>31.0</td>\n",
       "      <td>30.0</td>\n",
       "      <td>90.0</td>\n",
       "      <td>31.0</td>\n",
       "      <td>28.0</td>\n",
       "      <td>16.0</td>\n",
       "    </tr>\n",
       "    <tr>\n",
       "      <th>2017-06-30 22:00:00</th>\n",
       "      <td>90.0</td>\n",
       "      <td>31.0</td>\n",
       "      <td>28.0</td>\n",
       "      <td>16.0</td>\n",
       "      <td>84.0</td>\n",
       "      <td>29.0</td>\n",
       "      <td>26.0</td>\n",
       "      <td>22.0</td>\n",
       "    </tr>\n",
       "    <tr>\n",
       "      <th>2017-06-30 23:00:00</th>\n",
       "      <td>84.0</td>\n",
       "      <td>29.0</td>\n",
       "      <td>26.0</td>\n",
       "      <td>22.0</td>\n",
       "      <td>78.0</td>\n",
       "      <td>27.0</td>\n",
       "      <td>39.0</td>\n",
       "      <td>12.0</td>\n",
       "    </tr>\n",
       "  </tbody>\n",
       "</table>\n",
       "<p>14591 rows × 8 columns</p>\n",
       "</div>"
      ],
      "text/plain": [
       "                     Junction 1 (H-1)  Junction 2 (H-1)  Junction 3 (H-1)  \\\n",
       "DateTime                                                                    \n",
       "2015-11-01 01:00:00              15.0               6.0               9.0   \n",
       "2015-11-01 02:00:00              13.0               6.0               7.0   \n",
       "2015-11-01 03:00:00              10.0               5.0               5.0   \n",
       "2015-11-01 04:00:00               7.0               6.0               1.0   \n",
       "2015-11-01 05:00:00               9.0               7.0               2.0   \n",
       "...                               ...               ...               ...   \n",
       "2017-06-30 19:00:00              95.0              34.0              38.0   \n",
       "2017-06-30 20:00:00             105.0              34.0              33.0   \n",
       "2017-06-30 21:00:00              96.0              35.0              31.0   \n",
       "2017-06-30 22:00:00              90.0              31.0              28.0   \n",
       "2017-06-30 23:00:00              84.0              29.0              26.0   \n",
       "\n",
       "                     Junction 4 (H-1)  Junction 1 (H)  Junction 2 (H)  \\\n",
       "DateTime                                                                \n",
       "2015-11-01 01:00:00              36.0            13.0             6.0   \n",
       "2015-11-01 02:00:00              36.0            10.0             5.0   \n",
       "2015-11-01 03:00:00              36.0             7.0             6.0   \n",
       "2015-11-01 04:00:00              36.0             9.0             7.0   \n",
       "2015-11-01 05:00:00              36.0             6.0             2.0   \n",
       "...                               ...             ...             ...   \n",
       "2017-06-30 19:00:00              17.0           105.0            34.0   \n",
       "2017-06-30 20:00:00              11.0            96.0            35.0   \n",
       "2017-06-30 21:00:00              30.0            90.0            31.0   \n",
       "2017-06-30 22:00:00              16.0            84.0            29.0   \n",
       "2017-06-30 23:00:00              22.0            78.0            27.0   \n",
       "\n",
       "                     Junction 3 (H)  Junction 4 (H)  \n",
       "DateTime                                             \n",
       "2015-11-01 01:00:00             7.0            36.0  \n",
       "2015-11-01 02:00:00             5.0            36.0  \n",
       "2015-11-01 03:00:00             1.0            36.0  \n",
       "2015-11-01 04:00:00             2.0            36.0  \n",
       "2015-11-01 05:00:00             2.0            36.0  \n",
       "...                             ...             ...  \n",
       "2017-06-30 19:00:00            33.0            11.0  \n",
       "2017-06-30 20:00:00            31.0            30.0  \n",
       "2017-06-30 21:00:00            28.0            16.0  \n",
       "2017-06-30 22:00:00            26.0            22.0  \n",
       "2017-06-30 23:00:00            39.0            12.0  \n",
       "\n",
       "[14591 rows x 8 columns]"
      ]
     },
     "execution_count": 19,
     "metadata": {},
     "output_type": "execute_result"
    }
   ],
   "source": [
    "Xy_train= gen_lag_features(train)\n",
    "Xy_train"
   ]
  },
  {
   "cell_type": "code",
   "execution_count": 20,
   "id": "aaabe9b8",
   "metadata": {},
   "outputs": [
    {
     "data": {
      "text/html": [
       "<div>\n",
       "<style scoped>\n",
       "    .dataframe tbody tr th:only-of-type {\n",
       "        vertical-align: middle;\n",
       "    }\n",
       "\n",
       "    .dataframe tbody tr th {\n",
       "        vertical-align: top;\n",
       "    }\n",
       "\n",
       "    .dataframe thead th {\n",
       "        text-align: right;\n",
       "    }\n",
       "</style>\n",
       "<table border=\"1\" class=\"dataframe\">\n",
       "  <thead>\n",
       "    <tr style=\"text-align: right;\">\n",
       "      <th></th>\n",
       "      <th>Junction 1 (H-1)</th>\n",
       "      <th>Junction 2 (H-1)</th>\n",
       "      <th>Junction 3 (H-1)</th>\n",
       "      <th>Junction 4 (H-1)</th>\n",
       "      <th>Junction 1 (H)</th>\n",
       "      <th>Junction 2 (H)</th>\n",
       "      <th>Junction 3 (H)</th>\n",
       "      <th>Junction 4 (H)</th>\n",
       "    </tr>\n",
       "    <tr>\n",
       "      <th>DateTime</th>\n",
       "      <th></th>\n",
       "      <th></th>\n",
       "      <th></th>\n",
       "      <th></th>\n",
       "      <th></th>\n",
       "      <th></th>\n",
       "      <th></th>\n",
       "      <th></th>\n",
       "    </tr>\n",
       "  </thead>\n",
       "  <tbody>\n",
       "    <tr>\n",
       "      <th>2015-11-01 01:00:00</th>\n",
       "      <td>0.066225</td>\n",
       "      <td>0.106383</td>\n",
       "      <td>0.044693</td>\n",
       "      <td>1.000000</td>\n",
       "      <td>0.052980</td>\n",
       "      <td>0.106383</td>\n",
       "      <td>0.033520</td>\n",
       "      <td>1.000000</td>\n",
       "    </tr>\n",
       "    <tr>\n",
       "      <th>2015-11-01 02:00:00</th>\n",
       "      <td>0.052980</td>\n",
       "      <td>0.106383</td>\n",
       "      <td>0.033520</td>\n",
       "      <td>1.000000</td>\n",
       "      <td>0.033113</td>\n",
       "      <td>0.085106</td>\n",
       "      <td>0.022346</td>\n",
       "      <td>1.000000</td>\n",
       "    </tr>\n",
       "    <tr>\n",
       "      <th>2015-11-01 03:00:00</th>\n",
       "      <td>0.033113</td>\n",
       "      <td>0.085106</td>\n",
       "      <td>0.022346</td>\n",
       "      <td>1.000000</td>\n",
       "      <td>0.013245</td>\n",
       "      <td>0.106383</td>\n",
       "      <td>0.000000</td>\n",
       "      <td>1.000000</td>\n",
       "    </tr>\n",
       "    <tr>\n",
       "      <th>2015-11-01 04:00:00</th>\n",
       "      <td>0.013245</td>\n",
       "      <td>0.106383</td>\n",
       "      <td>0.000000</td>\n",
       "      <td>1.000000</td>\n",
       "      <td>0.026490</td>\n",
       "      <td>0.127660</td>\n",
       "      <td>0.005587</td>\n",
       "      <td>1.000000</td>\n",
       "    </tr>\n",
       "    <tr>\n",
       "      <th>2015-11-01 05:00:00</th>\n",
       "      <td>0.026490</td>\n",
       "      <td>0.127660</td>\n",
       "      <td>0.005587</td>\n",
       "      <td>1.000000</td>\n",
       "      <td>0.006623</td>\n",
       "      <td>0.021277</td>\n",
       "      <td>0.005587</td>\n",
       "      <td>1.000000</td>\n",
       "    </tr>\n",
       "    <tr>\n",
       "      <th>...</th>\n",
       "      <td>...</td>\n",
       "      <td>...</td>\n",
       "      <td>...</td>\n",
       "      <td>...</td>\n",
       "      <td>...</td>\n",
       "      <td>...</td>\n",
       "      <td>...</td>\n",
       "      <td>...</td>\n",
       "    </tr>\n",
       "    <tr>\n",
       "      <th>2017-06-30 19:00:00</th>\n",
       "      <td>0.596026</td>\n",
       "      <td>0.702128</td>\n",
       "      <td>0.206704</td>\n",
       "      <td>0.457143</td>\n",
       "      <td>0.662252</td>\n",
       "      <td>0.702128</td>\n",
       "      <td>0.178771</td>\n",
       "      <td>0.285714</td>\n",
       "    </tr>\n",
       "    <tr>\n",
       "      <th>2017-06-30 20:00:00</th>\n",
       "      <td>0.662252</td>\n",
       "      <td>0.702128</td>\n",
       "      <td>0.178771</td>\n",
       "      <td>0.285714</td>\n",
       "      <td>0.602649</td>\n",
       "      <td>0.723404</td>\n",
       "      <td>0.167598</td>\n",
       "      <td>0.828571</td>\n",
       "    </tr>\n",
       "    <tr>\n",
       "      <th>2017-06-30 21:00:00</th>\n",
       "      <td>0.602649</td>\n",
       "      <td>0.723404</td>\n",
       "      <td>0.167598</td>\n",
       "      <td>0.828571</td>\n",
       "      <td>0.562914</td>\n",
       "      <td>0.638298</td>\n",
       "      <td>0.150838</td>\n",
       "      <td>0.428571</td>\n",
       "    </tr>\n",
       "    <tr>\n",
       "      <th>2017-06-30 22:00:00</th>\n",
       "      <td>0.562914</td>\n",
       "      <td>0.638298</td>\n",
       "      <td>0.150838</td>\n",
       "      <td>0.428571</td>\n",
       "      <td>0.523179</td>\n",
       "      <td>0.595745</td>\n",
       "      <td>0.139665</td>\n",
       "      <td>0.600000</td>\n",
       "    </tr>\n",
       "    <tr>\n",
       "      <th>2017-06-30 23:00:00</th>\n",
       "      <td>0.523179</td>\n",
       "      <td>0.595745</td>\n",
       "      <td>0.139665</td>\n",
       "      <td>0.600000</td>\n",
       "      <td>0.483444</td>\n",
       "      <td>0.553191</td>\n",
       "      <td>0.212291</td>\n",
       "      <td>0.314286</td>\n",
       "    </tr>\n",
       "  </tbody>\n",
       "</table>\n",
       "<p>14591 rows × 8 columns</p>\n",
       "</div>"
      ],
      "text/plain": [
       "                     Junction 1 (H-1)  Junction 2 (H-1)  Junction 3 (H-1)  \\\n",
       "DateTime                                                                    \n",
       "2015-11-01 01:00:00          0.066225          0.106383          0.044693   \n",
       "2015-11-01 02:00:00          0.052980          0.106383          0.033520   \n",
       "2015-11-01 03:00:00          0.033113          0.085106          0.022346   \n",
       "2015-11-01 04:00:00          0.013245          0.106383          0.000000   \n",
       "2015-11-01 05:00:00          0.026490          0.127660          0.005587   \n",
       "...                               ...               ...               ...   \n",
       "2017-06-30 19:00:00          0.596026          0.702128          0.206704   \n",
       "2017-06-30 20:00:00          0.662252          0.702128          0.178771   \n",
       "2017-06-30 21:00:00          0.602649          0.723404          0.167598   \n",
       "2017-06-30 22:00:00          0.562914          0.638298          0.150838   \n",
       "2017-06-30 23:00:00          0.523179          0.595745          0.139665   \n",
       "\n",
       "                     Junction 4 (H-1)  Junction 1 (H)  Junction 2 (H)  \\\n",
       "DateTime                                                                \n",
       "2015-11-01 01:00:00          1.000000        0.052980        0.106383   \n",
       "2015-11-01 02:00:00          1.000000        0.033113        0.085106   \n",
       "2015-11-01 03:00:00          1.000000        0.013245        0.106383   \n",
       "2015-11-01 04:00:00          1.000000        0.026490        0.127660   \n",
       "2015-11-01 05:00:00          1.000000        0.006623        0.021277   \n",
       "...                               ...             ...             ...   \n",
       "2017-06-30 19:00:00          0.457143        0.662252        0.702128   \n",
       "2017-06-30 20:00:00          0.285714        0.602649        0.723404   \n",
       "2017-06-30 21:00:00          0.828571        0.562914        0.638298   \n",
       "2017-06-30 22:00:00          0.428571        0.523179        0.595745   \n",
       "2017-06-30 23:00:00          0.600000        0.483444        0.553191   \n",
       "\n",
       "                     Junction 3 (H)  Junction 4 (H)  \n",
       "DateTime                                             \n",
       "2015-11-01 01:00:00        0.033520        1.000000  \n",
       "2015-11-01 02:00:00        0.022346        1.000000  \n",
       "2015-11-01 03:00:00        0.000000        1.000000  \n",
       "2015-11-01 04:00:00        0.005587        1.000000  \n",
       "2015-11-01 05:00:00        0.005587        1.000000  \n",
       "...                             ...             ...  \n",
       "2017-06-30 19:00:00        0.178771        0.285714  \n",
       "2017-06-30 20:00:00        0.167598        0.828571  \n",
       "2017-06-30 21:00:00        0.150838        0.428571  \n",
       "2017-06-30 22:00:00        0.139665        0.600000  \n",
       "2017-06-30 23:00:00        0.212291        0.314286  \n",
       "\n",
       "[14591 rows x 8 columns]"
      ]
     },
     "execution_count": 20,
     "metadata": {},
     "output_type": "execute_result"
    }
   ],
   "source": [
    "from sklearn.preprocessing import MinMaxScaler, StandardScaler\n",
    "scaler = MinMaxScaler(feature_range=(0,1))\n",
    "Xy_train[Xy_train.columns]= scaler.fit_transform(Xy_train[Xy_train.columns])\n",
    "\n",
    "Xy_train"
   ]
  },
  {
   "cell_type": "markdown",
   "id": "8eac93c4",
   "metadata": {},
   "source": [
    "# Split train and valid (and normalize for real)"
   ]
  },
  {
   "cell_type": "code",
   "execution_count": 21,
   "id": "5dccb91c",
   "metadata": {},
   "outputs": [],
   "source": [
    "X_train = Xy_train[Xy_train.index < '2017-04-01'].iloc[:,0:4]"
   ]
  },
  {
   "cell_type": "code",
   "execution_count": 22,
   "id": "c42d0a77",
   "metadata": {},
   "outputs": [
    {
     "data": {
      "text/html": [
       "<div>\n",
       "<style scoped>\n",
       "    .dataframe tbody tr th:only-of-type {\n",
       "        vertical-align: middle;\n",
       "    }\n",
       "\n",
       "    .dataframe tbody tr th {\n",
       "        vertical-align: top;\n",
       "    }\n",
       "\n",
       "    .dataframe thead th {\n",
       "        text-align: right;\n",
       "    }\n",
       "</style>\n",
       "<table border=\"1\" class=\"dataframe\">\n",
       "  <thead>\n",
       "    <tr style=\"text-align: right;\">\n",
       "      <th></th>\n",
       "      <th>Junction 1 (H-1)</th>\n",
       "      <th>Junction 2 (H-1)</th>\n",
       "      <th>Junction 3 (H-1)</th>\n",
       "      <th>Junction 4 (H-1)</th>\n",
       "    </tr>\n",
       "    <tr>\n",
       "      <th>DateTime</th>\n",
       "      <th></th>\n",
       "      <th></th>\n",
       "      <th></th>\n",
       "      <th></th>\n",
       "    </tr>\n",
       "  </thead>\n",
       "  <tbody>\n",
       "    <tr>\n",
       "      <th>2015-11-01 01:00:00</th>\n",
       "      <td>0.066225</td>\n",
       "      <td>0.106383</td>\n",
       "      <td>0.044693</td>\n",
       "      <td>1.000000</td>\n",
       "    </tr>\n",
       "    <tr>\n",
       "      <th>2015-11-01 02:00:00</th>\n",
       "      <td>0.052980</td>\n",
       "      <td>0.106383</td>\n",
       "      <td>0.033520</td>\n",
       "      <td>1.000000</td>\n",
       "    </tr>\n",
       "    <tr>\n",
       "      <th>2015-11-01 03:00:00</th>\n",
       "      <td>0.033113</td>\n",
       "      <td>0.085106</td>\n",
       "      <td>0.022346</td>\n",
       "      <td>1.000000</td>\n",
       "    </tr>\n",
       "    <tr>\n",
       "      <th>2015-11-01 04:00:00</th>\n",
       "      <td>0.013245</td>\n",
       "      <td>0.106383</td>\n",
       "      <td>0.000000</td>\n",
       "      <td>1.000000</td>\n",
       "    </tr>\n",
       "    <tr>\n",
       "      <th>2015-11-01 05:00:00</th>\n",
       "      <td>0.026490</td>\n",
       "      <td>0.127660</td>\n",
       "      <td>0.005587</td>\n",
       "      <td>1.000000</td>\n",
       "    </tr>\n",
       "    <tr>\n",
       "      <th>...</th>\n",
       "      <td>...</td>\n",
       "      <td>...</td>\n",
       "      <td>...</td>\n",
       "      <td>...</td>\n",
       "    </tr>\n",
       "    <tr>\n",
       "      <th>2017-03-31 19:00:00</th>\n",
       "      <td>0.476821</td>\n",
       "      <td>0.574468</td>\n",
       "      <td>0.178771</td>\n",
       "      <td>0.142857</td>\n",
       "    </tr>\n",
       "    <tr>\n",
       "      <th>2017-03-31 20:00:00</th>\n",
       "      <td>0.496689</td>\n",
       "      <td>0.531915</td>\n",
       "      <td>0.156425</td>\n",
       "      <td>0.200000</td>\n",
       "    </tr>\n",
       "    <tr>\n",
       "      <th>2017-03-31 21:00:00</th>\n",
       "      <td>0.483444</td>\n",
       "      <td>0.638298</td>\n",
       "      <td>0.156425</td>\n",
       "      <td>0.200000</td>\n",
       "    </tr>\n",
       "    <tr>\n",
       "      <th>2017-03-31 22:00:00</th>\n",
       "      <td>0.403974</td>\n",
       "      <td>0.574468</td>\n",
       "      <td>0.150838</td>\n",
       "      <td>0.228571</td>\n",
       "    </tr>\n",
       "    <tr>\n",
       "      <th>2017-03-31 23:00:00</th>\n",
       "      <td>0.423841</td>\n",
       "      <td>0.553191</td>\n",
       "      <td>0.162011</td>\n",
       "      <td>0.142857</td>\n",
       "    </tr>\n",
       "  </tbody>\n",
       "</table>\n",
       "<p>12407 rows × 4 columns</p>\n",
       "</div>"
      ],
      "text/plain": [
       "                     Junction 1 (H-1)  Junction 2 (H-1)  Junction 3 (H-1)  \\\n",
       "DateTime                                                                    \n",
       "2015-11-01 01:00:00          0.066225          0.106383          0.044693   \n",
       "2015-11-01 02:00:00          0.052980          0.106383          0.033520   \n",
       "2015-11-01 03:00:00          0.033113          0.085106          0.022346   \n",
       "2015-11-01 04:00:00          0.013245          0.106383          0.000000   \n",
       "2015-11-01 05:00:00          0.026490          0.127660          0.005587   \n",
       "...                               ...               ...               ...   \n",
       "2017-03-31 19:00:00          0.476821          0.574468          0.178771   \n",
       "2017-03-31 20:00:00          0.496689          0.531915          0.156425   \n",
       "2017-03-31 21:00:00          0.483444          0.638298          0.156425   \n",
       "2017-03-31 22:00:00          0.403974          0.574468          0.150838   \n",
       "2017-03-31 23:00:00          0.423841          0.553191          0.162011   \n",
       "\n",
       "                     Junction 4 (H-1)  \n",
       "DateTime                               \n",
       "2015-11-01 01:00:00          1.000000  \n",
       "2015-11-01 02:00:00          1.000000  \n",
       "2015-11-01 03:00:00          1.000000  \n",
       "2015-11-01 04:00:00          1.000000  \n",
       "2015-11-01 05:00:00          1.000000  \n",
       "...                               ...  \n",
       "2017-03-31 19:00:00          0.142857  \n",
       "2017-03-31 20:00:00          0.200000  \n",
       "2017-03-31 21:00:00          0.200000  \n",
       "2017-03-31 22:00:00          0.228571  \n",
       "2017-03-31 23:00:00          0.142857  \n",
       "\n",
       "[12407 rows x 4 columns]"
      ]
     },
     "execution_count": 22,
     "metadata": {},
     "output_type": "execute_result"
    }
   ],
   "source": [
    "X_train "
   ]
  },
  {
   "cell_type": "code",
   "execution_count": 23,
   "id": "49ca4499",
   "metadata": {},
   "outputs": [],
   "source": [
    "y_train= Xy_train[Xy_train.index < '2017-04-01'].iloc[:,4:]"
   ]
  },
  {
   "cell_type": "code",
   "execution_count": 24,
   "id": "1723b947",
   "metadata": {},
   "outputs": [
    {
     "data": {
      "text/html": [
       "<div>\n",
       "<style scoped>\n",
       "    .dataframe tbody tr th:only-of-type {\n",
       "        vertical-align: middle;\n",
       "    }\n",
       "\n",
       "    .dataframe tbody tr th {\n",
       "        vertical-align: top;\n",
       "    }\n",
       "\n",
       "    .dataframe thead th {\n",
       "        text-align: right;\n",
       "    }\n",
       "</style>\n",
       "<table border=\"1\" class=\"dataframe\">\n",
       "  <thead>\n",
       "    <tr style=\"text-align: right;\">\n",
       "      <th></th>\n",
       "      <th>Junction 1 (H)</th>\n",
       "      <th>Junction 2 (H)</th>\n",
       "      <th>Junction 3 (H)</th>\n",
       "      <th>Junction 4 (H)</th>\n",
       "    </tr>\n",
       "    <tr>\n",
       "      <th>DateTime</th>\n",
       "      <th></th>\n",
       "      <th></th>\n",
       "      <th></th>\n",
       "      <th></th>\n",
       "    </tr>\n",
       "  </thead>\n",
       "  <tbody>\n",
       "    <tr>\n",
       "      <th>2015-11-01 01:00:00</th>\n",
       "      <td>0.052980</td>\n",
       "      <td>0.106383</td>\n",
       "      <td>0.033520</td>\n",
       "      <td>1.000000</td>\n",
       "    </tr>\n",
       "    <tr>\n",
       "      <th>2015-11-01 02:00:00</th>\n",
       "      <td>0.033113</td>\n",
       "      <td>0.085106</td>\n",
       "      <td>0.022346</td>\n",
       "      <td>1.000000</td>\n",
       "    </tr>\n",
       "    <tr>\n",
       "      <th>2015-11-01 03:00:00</th>\n",
       "      <td>0.013245</td>\n",
       "      <td>0.106383</td>\n",
       "      <td>0.000000</td>\n",
       "      <td>1.000000</td>\n",
       "    </tr>\n",
       "    <tr>\n",
       "      <th>2015-11-01 04:00:00</th>\n",
       "      <td>0.026490</td>\n",
       "      <td>0.127660</td>\n",
       "      <td>0.005587</td>\n",
       "      <td>1.000000</td>\n",
       "    </tr>\n",
       "    <tr>\n",
       "      <th>2015-11-01 05:00:00</th>\n",
       "      <td>0.006623</td>\n",
       "      <td>0.021277</td>\n",
       "      <td>0.005587</td>\n",
       "      <td>1.000000</td>\n",
       "    </tr>\n",
       "    <tr>\n",
       "      <th>...</th>\n",
       "      <td>...</td>\n",
       "      <td>...</td>\n",
       "      <td>...</td>\n",
       "      <td>...</td>\n",
       "    </tr>\n",
       "    <tr>\n",
       "      <th>2017-03-31 19:00:00</th>\n",
       "      <td>0.496689</td>\n",
       "      <td>0.531915</td>\n",
       "      <td>0.156425</td>\n",
       "      <td>0.200000</td>\n",
       "    </tr>\n",
       "    <tr>\n",
       "      <th>2017-03-31 20:00:00</th>\n",
       "      <td>0.483444</td>\n",
       "      <td>0.638298</td>\n",
       "      <td>0.156425</td>\n",
       "      <td>0.200000</td>\n",
       "    </tr>\n",
       "    <tr>\n",
       "      <th>2017-03-31 21:00:00</th>\n",
       "      <td>0.403974</td>\n",
       "      <td>0.574468</td>\n",
       "      <td>0.150838</td>\n",
       "      <td>0.228571</td>\n",
       "    </tr>\n",
       "    <tr>\n",
       "      <th>2017-03-31 22:00:00</th>\n",
       "      <td>0.423841</td>\n",
       "      <td>0.553191</td>\n",
       "      <td>0.162011</td>\n",
       "      <td>0.142857</td>\n",
       "    </tr>\n",
       "    <tr>\n",
       "      <th>2017-03-31 23:00:00</th>\n",
       "      <td>0.417219</td>\n",
       "      <td>0.553191</td>\n",
       "      <td>0.162011</td>\n",
       "      <td>0.142857</td>\n",
       "    </tr>\n",
       "  </tbody>\n",
       "</table>\n",
       "<p>12407 rows × 4 columns</p>\n",
       "</div>"
      ],
      "text/plain": [
       "                     Junction 1 (H)  Junction 2 (H)  Junction 3 (H)  \\\n",
       "DateTime                                                              \n",
       "2015-11-01 01:00:00        0.052980        0.106383        0.033520   \n",
       "2015-11-01 02:00:00        0.033113        0.085106        0.022346   \n",
       "2015-11-01 03:00:00        0.013245        0.106383        0.000000   \n",
       "2015-11-01 04:00:00        0.026490        0.127660        0.005587   \n",
       "2015-11-01 05:00:00        0.006623        0.021277        0.005587   \n",
       "...                             ...             ...             ...   \n",
       "2017-03-31 19:00:00        0.496689        0.531915        0.156425   \n",
       "2017-03-31 20:00:00        0.483444        0.638298        0.156425   \n",
       "2017-03-31 21:00:00        0.403974        0.574468        0.150838   \n",
       "2017-03-31 22:00:00        0.423841        0.553191        0.162011   \n",
       "2017-03-31 23:00:00        0.417219        0.553191        0.162011   \n",
       "\n",
       "                     Junction 4 (H)  \n",
       "DateTime                             \n",
       "2015-11-01 01:00:00        1.000000  \n",
       "2015-11-01 02:00:00        1.000000  \n",
       "2015-11-01 03:00:00        1.000000  \n",
       "2015-11-01 04:00:00        1.000000  \n",
       "2015-11-01 05:00:00        1.000000  \n",
       "...                             ...  \n",
       "2017-03-31 19:00:00        0.200000  \n",
       "2017-03-31 20:00:00        0.200000  \n",
       "2017-03-31 21:00:00        0.228571  \n",
       "2017-03-31 22:00:00        0.142857  \n",
       "2017-03-31 23:00:00        0.142857  \n",
       "\n",
       "[12407 rows x 4 columns]"
      ]
     },
     "execution_count": 24,
     "metadata": {},
     "output_type": "execute_result"
    }
   ],
   "source": [
    "y_train"
   ]
  },
  {
   "cell_type": "markdown",
   "id": "055f2319",
   "metadata": {},
   "source": [
    "# Reshape the Data"
   ]
  },
  {
   "cell_type": "code",
   "execution_count": 25,
   "id": "e37f8f77",
   "metadata": {},
   "outputs": [
    {
     "data": {
      "text/plain": [
       "(12407, 4)"
      ]
     },
     "execution_count": 25,
     "metadata": {},
     "output_type": "execute_result"
    }
   ],
   "source": [
    "X_train.shape"
   ]
  },
  {
   "cell_type": "code",
   "execution_count": 26,
   "id": "2b15b675",
   "metadata": {},
   "outputs": [
    {
     "data": {
      "text/plain": [
       "(12407, 4)"
      ]
     },
     "execution_count": 26,
     "metadata": {},
     "output_type": "execute_result"
    }
   ],
   "source": [
    "y_train.shape"
   ]
  },
  {
   "cell_type": "code",
   "execution_count": 27,
   "id": "a70b5b8b",
   "metadata": {},
   "outputs": [],
   "source": [
    "X_train = np.expand_dims(X_train.values,axis=2)"
   ]
  },
  {
   "cell_type": "code",
   "execution_count": 28,
   "id": "f1285576",
   "metadata": {},
   "outputs": [
    {
     "data": {
      "text/plain": [
       "(12407, 4, 1)"
      ]
     },
     "execution_count": 28,
     "metadata": {},
     "output_type": "execute_result"
    }
   ],
   "source": [
    "X_train.shape"
   ]
  },
  {
   "cell_type": "code",
   "execution_count": 29,
   "id": "8f87c4a6",
   "metadata": {},
   "outputs": [],
   "source": [
    "y_train= y_train.values"
   ]
  },
  {
   "cell_type": "code",
   "execution_count": 30,
   "id": "60ecf97b",
   "metadata": {},
   "outputs": [
    {
     "data": {
      "text/plain": [
       "(12407, 4)"
      ]
     },
     "execution_count": 30,
     "metadata": {},
     "output_type": "execute_result"
    }
   ],
   "source": [
    "y_train.shape"
   ]
  },
  {
   "cell_type": "markdown",
   "id": "3579d97a",
   "metadata": {},
   "source": [
    "# Modeling"
   ]
  },
  {
   "cell_type": "code",
   "execution_count": 31,
   "id": "82bd2677",
   "metadata": {},
   "outputs": [],
   "source": [
    "from keras.models import Sequential\n",
    "from keras.layers import Dense\n",
    "from keras.layers import LSTM\n",
    "from keras.initializers import he_normal\n",
    "import keras.backend as K\n",
    "\n",
    "def root_mean_squared_error(y_true,y_pred):\n",
    "    return K.sqrt(K.mean(K.square(y_pred - y_true), axis=-1))"
   ]
  },
  {
   "cell_type": "code",
   "execution_count": 32,
   "id": "31597e36",
   "metadata": {},
   "outputs": [],
   "source": [
    "# Initialising the RNN\n",
    "regressor= Sequential()\n",
    "\n",
    "#Adding the input layer and the LSTM layer\n",
    "regressor.add(LSTM(units = 50,activation='relu',kernel_initializer= he_normal(seed=0),input_shape=(None,1)))\n",
    "\n",
    "#output for 4 junctions\n",
    "regressor.add(Dense(units=4))\n",
    "\n",
    "#Compiling the RNN\n",
    "regressor.compile(optimizer='adam',loss= root_mean_squared_error)"
   ]
  },
  {
   "cell_type": "code",
   "execution_count": 33,
   "id": "ed306ef8",
   "metadata": {},
   "outputs": [
    {
     "name": "stdout",
     "output_type": "stream",
     "text": [
      "Epoch 1/100\n",
      "104/104 [==============================] - 4s 4ms/step - loss: 0.2493\n",
      "Epoch 2/100\n",
      "104/104 [==============================] - 0s 4ms/step - loss: 0.0453\n",
      "Epoch 3/100\n",
      "104/104 [==============================] - 0s 4ms/step - loss: 0.0366\n",
      "Epoch 4/100\n",
      "104/104 [==============================] - 0s 4ms/step - loss: 0.0343\n",
      "Epoch 5/100\n",
      "104/104 [==============================] - 0s 4ms/step - loss: 0.0333\n",
      "Epoch 6/100\n",
      "104/104 [==============================] - 0s 4ms/step - loss: 0.0328\n",
      "Epoch 7/100\n",
      "104/104 [==============================] - 0s 4ms/step - loss: 0.0327\n",
      "Epoch 8/100\n",
      "104/104 [==============================] - 0s 4ms/step - loss: 0.0325\n",
      "Epoch 9/100\n",
      "104/104 [==============================] - 0s 4ms/step - loss: 0.0324\n",
      "Epoch 10/100\n",
      "104/104 [==============================] - 0s 4ms/step - loss: 0.0324\n",
      "Epoch 11/100\n",
      "104/104 [==============================] - 0s 4ms/step - loss: 0.0324\n",
      "Epoch 12/100\n",
      "104/104 [==============================] - 0s 4ms/step - loss: 0.0322\n",
      "Epoch 13/100\n",
      "104/104 [==============================] - 0s 4ms/step - loss: 0.0322\n",
      "Epoch 14/100\n",
      "104/104 [==============================] - 0s 4ms/step - loss: 0.0323\n",
      "Epoch 15/100\n",
      "104/104 [==============================] - 0s 4ms/step - loss: 0.0321\n",
      "Epoch 16/100\n",
      "104/104 [==============================] - 0s 4ms/step - loss: 0.0320\n",
      "Epoch 17/100\n",
      "104/104 [==============================] - 0s 4ms/step - loss: 0.0321\n",
      "Epoch 18/100\n",
      "104/104 [==============================] - 0s 4ms/step - loss: 0.0321\n",
      "Epoch 19/100\n",
      "104/104 [==============================] - 0s 4ms/step - loss: 0.0320\n",
      "Epoch 20/100\n",
      "104/104 [==============================] - 0s 4ms/step - loss: 0.0320\n",
      "Epoch 21/100\n",
      "104/104 [==============================] - 0s 4ms/step - loss: 0.0320\n",
      "Epoch 22/100\n",
      "104/104 [==============================] - 0s 4ms/step - loss: 0.0320\n",
      "Epoch 23/100\n",
      "104/104 [==============================] - 0s 4ms/step - loss: 0.0319\n",
      "Epoch 24/100\n",
      "104/104 [==============================] - 0s 4ms/step - loss: 0.0321\n",
      "Epoch 25/100\n",
      "104/104 [==============================] - 0s 4ms/step - loss: 0.0318\n",
      "Epoch 26/100\n",
      "104/104 [==============================] - 0s 4ms/step - loss: 0.0320\n",
      "Epoch 27/100\n",
      "104/104 [==============================] - 0s 4ms/step - loss: 0.0319\n",
      "Epoch 28/100\n",
      "104/104 [==============================] - 0s 4ms/step - loss: 0.0321\n",
      "Epoch 29/100\n",
      "104/104 [==============================] - 0s 4ms/step - loss: 0.0319\n",
      "Epoch 30/100\n",
      "104/104 [==============================] - 0s 4ms/step - loss: 0.0321\n",
      "Epoch 31/100\n",
      "104/104 [==============================] - 0s 4ms/step - loss: 0.0319\n",
      "Epoch 32/100\n",
      "104/104 [==============================] - 0s 4ms/step - loss: 0.0318\n",
      "Epoch 33/100\n",
      "104/104 [==============================] - 0s 4ms/step - loss: 0.0318\n",
      "Epoch 34/100\n",
      "104/104 [==============================] - 0s 4ms/step - loss: 0.0318\n",
      "Epoch 35/100\n",
      "104/104 [==============================] - 0s 4ms/step - loss: 0.0319\n",
      "Epoch 36/100\n",
      "104/104 [==============================] - 0s 4ms/step - loss: 0.0318\n",
      "Epoch 37/100\n",
      "104/104 [==============================] - 0s 5ms/step - loss: 0.0318\n",
      "Epoch 38/100\n",
      "104/104 [==============================] - 0s 4ms/step - loss: 0.0318\n",
      "Epoch 39/100\n",
      "104/104 [==============================] - 1s 6ms/step - loss: 0.0318\n",
      "Epoch 40/100\n",
      "104/104 [==============================] - 1s 6ms/step - loss: 0.0319\n",
      "Epoch 41/100\n",
      "104/104 [==============================] - 1s 7ms/step - loss: 0.0318\n",
      "Epoch 42/100\n",
      "104/104 [==============================] - 1s 5ms/step - loss: 0.0318\n",
      "Epoch 43/100\n",
      "104/104 [==============================] - 1s 5ms/step - loss: 0.0318\n",
      "Epoch 44/100\n",
      "104/104 [==============================] - 0s 4ms/step - loss: 0.0317\n",
      "Epoch 45/100\n",
      "104/104 [==============================] - 0s 4ms/step - loss: 0.0318\n",
      "Epoch 46/100\n",
      "104/104 [==============================] - 0s 4ms/step - loss: 0.0316\n",
      "Epoch 47/100\n",
      "104/104 [==============================] - 0s 4ms/step - loss: 0.0317\n",
      "Epoch 48/100\n",
      "104/104 [==============================] - 0s 4ms/step - loss: 0.0317\n",
      "Epoch 49/100\n",
      "104/104 [==============================] - 0s 4ms/step - loss: 0.0318\n",
      "Epoch 50/100\n",
      "104/104 [==============================] - 1s 5ms/step - loss: 0.0317\n",
      "Epoch 51/100\n",
      "104/104 [==============================] - 0s 4ms/step - loss: 0.0317\n",
      "Epoch 52/100\n",
      "104/104 [==============================] - 0s 4ms/step - loss: 0.0319\n",
      "Epoch 53/100\n",
      "104/104 [==============================] - 0s 3ms/step - loss: 0.0316\n",
      "Epoch 54/100\n",
      "104/104 [==============================] - 0s 3ms/step - loss: 0.0316\n",
      "Epoch 55/100\n",
      "104/104 [==============================] - 0s 3ms/step - loss: 0.0317\n",
      "Epoch 56/100\n",
      "104/104 [==============================] - 0s 3ms/step - loss: 0.0318\n",
      "Epoch 57/100\n",
      "104/104 [==============================] - 0s 3ms/step - loss: 0.0317\n",
      "Epoch 58/100\n",
      "104/104 [==============================] - 1s 6ms/step - loss: 0.0317\n",
      "Epoch 59/100\n",
      "104/104 [==============================] - 1s 6ms/step - loss: 0.0316\n",
      "Epoch 60/100\n",
      "104/104 [==============================] - 1s 6ms/step - loss: 0.0315\n",
      "Epoch 61/100\n",
      "104/104 [==============================] - 1s 5ms/step - loss: 0.0317\n",
      "Epoch 62/100\n",
      "104/104 [==============================] - 1s 5ms/step - loss: 0.0317\n",
      "Epoch 63/100\n",
      "104/104 [==============================] - 1s 5ms/step - loss: 0.0315\n",
      "Epoch 64/100\n",
      "104/104 [==============================] - 1s 6ms/step - loss: 0.0315\n",
      "Epoch 65/100\n",
      "104/104 [==============================] - 0s 5ms/step - loss: 0.0316\n",
      "Epoch 66/100\n",
      "104/104 [==============================] - 0s 3ms/step - loss: 0.0316\n",
      "Epoch 67/100\n",
      "104/104 [==============================] - 0s 4ms/step - loss: 0.0317\n",
      "Epoch 68/100\n",
      "104/104 [==============================] - 0s 4ms/step - loss: 0.0315\n",
      "Epoch 69/100\n",
      "104/104 [==============================] - 0s 4ms/step - loss: 0.0318\n",
      "Epoch 70/100\n",
      "104/104 [==============================] - 0s 3ms/step - loss: 0.0315\n",
      "Epoch 71/100\n",
      "104/104 [==============================] - 0s 4ms/step - loss: 0.0317\n",
      "Epoch 72/100\n",
      "104/104 [==============================] - 0s 4ms/step - loss: 0.0316\n",
      "Epoch 73/100\n",
      "104/104 [==============================] - 0s 4ms/step - loss: 0.0316\n",
      "Epoch 74/100\n",
      "104/104 [==============================] - 0s 3ms/step - loss: 0.0316\n",
      "Epoch 75/100\n",
      "104/104 [==============================] - 0s 3ms/step - loss: 0.0316\n",
      "Epoch 76/100\n",
      "104/104 [==============================] - 0s 4ms/step - loss: 0.0315\n",
      "Epoch 77/100\n",
      "104/104 [==============================] - 0s 4ms/step - loss: 0.0317\n",
      "Epoch 78/100\n",
      "104/104 [==============================] - 0s 4ms/step - loss: 0.0315\n",
      "Epoch 79/100\n",
      "104/104 [==============================] - 1s 7ms/step - loss: 0.0316\n",
      "Epoch 80/100\n",
      "104/104 [==============================] - 1s 7ms/step - loss: 0.0315\n",
      "Epoch 81/100\n",
      "104/104 [==============================] - 1s 5ms/step - loss: 0.0315\n",
      "Epoch 82/100\n",
      "104/104 [==============================] - 0s 5ms/step - loss: 0.0317\n",
      "Epoch 83/100\n",
      "104/104 [==============================] - 0s 5ms/step - loss: 0.0317\n",
      "Epoch 84/100\n",
      "104/104 [==============================] - 0s 5ms/step - loss: 0.0316\n",
      "Epoch 85/100\n",
      "104/104 [==============================] - 0s 3ms/step - loss: 0.0316\n",
      "Epoch 86/100\n",
      "104/104 [==============================] - 0s 3ms/step - loss: 0.0316\n",
      "Epoch 87/100\n",
      "104/104 [==============================] - 0s 3ms/step - loss: 0.0319\n",
      "Epoch 88/100\n",
      "104/104 [==============================] - 0s 3ms/step - loss: 0.0315\n",
      "Epoch 89/100\n",
      "104/104 [==============================] - 0s 4ms/step - loss: 0.0315\n",
      "Epoch 90/100\n",
      "104/104 [==============================] - 0s 4ms/step - loss: 0.0315\n",
      "Epoch 91/100\n",
      "104/104 [==============================] - 0s 4ms/step - loss: 0.0316\n",
      "Epoch 92/100\n",
      "104/104 [==============================] - 0s 4ms/step - loss: 0.0316\n",
      "Epoch 93/100\n",
      "104/104 [==============================] - 0s 4ms/step - loss: 0.0315\n",
      "Epoch 94/100\n",
      "104/104 [==============================] - 0s 4ms/step - loss: 0.0315\n",
      "Epoch 95/100\n",
      "104/104 [==============================] - 0s 5ms/step - loss: 0.0317\n",
      "Epoch 96/100\n",
      "104/104 [==============================] - 1s 5ms/step - loss: 0.0316\n",
      "Epoch 97/100\n",
      "104/104 [==============================] - 1s 5ms/step - loss: 0.0315\n",
      "Epoch 98/100\n",
      "104/104 [==============================] - 0s 5ms/step - loss: 0.0315\n",
      "Epoch 99/100\n"
     ]
    },
    {
     "name": "stdout",
     "output_type": "stream",
     "text": [
      "104/104 [==============================] - 1s 5ms/step - loss: 0.0315\n",
      "Epoch 100/100\n",
      "104/104 [==============================] - 0s 3ms/step - loss: 0.0314\n"
     ]
    },
    {
     "data": {
      "text/plain": [
       "<keras.callbacks.History at 0x2bab75eff10>"
      ]
     },
     "execution_count": 33,
     "metadata": {},
     "output_type": "execute_result"
    }
   ],
   "source": [
    "# Fitting the RNN to the Training set\n",
    "regressor.fit(X_train,y_train,batch_size=120,epochs=100,verbose=1)"
   ]
  },
  {
   "cell_type": "markdown",
   "id": "3909b2e8",
   "metadata": {},
   "source": [
    "# Validating"
   ]
  },
  {
   "cell_type": "code",
   "execution_count": 34,
   "id": "fb1c8416",
   "metadata": {},
   "outputs": [
    {
     "data": {
      "text/html": [
       "<div>\n",
       "<style scoped>\n",
       "    .dataframe tbody tr th:only-of-type {\n",
       "        vertical-align: middle;\n",
       "    }\n",
       "\n",
       "    .dataframe tbody tr th {\n",
       "        vertical-align: top;\n",
       "    }\n",
       "\n",
       "    .dataframe thead th {\n",
       "        text-align: right;\n",
       "    }\n",
       "</style>\n",
       "<table border=\"1\" class=\"dataframe\">\n",
       "  <thead>\n",
       "    <tr style=\"text-align: right;\">\n",
       "      <th></th>\n",
       "      <th>Junction 1 (H-1)</th>\n",
       "      <th>Junction 2 (H-1)</th>\n",
       "      <th>Junction 3 (H-1)</th>\n",
       "      <th>Junction 4 (H-1)</th>\n",
       "    </tr>\n",
       "    <tr>\n",
       "      <th>DateTime</th>\n",
       "      <th></th>\n",
       "      <th></th>\n",
       "      <th></th>\n",
       "      <th></th>\n",
       "    </tr>\n",
       "  </thead>\n",
       "  <tbody>\n",
       "    <tr>\n",
       "      <th>2017-04-01 00:00:00</th>\n",
       "      <td>0.417219</td>\n",
       "      <td>0.553191</td>\n",
       "      <td>0.162011</td>\n",
       "      <td>0.142857</td>\n",
       "    </tr>\n",
       "    <tr>\n",
       "      <th>2017-04-01 01:00:00</th>\n",
       "      <td>0.384106</td>\n",
       "      <td>0.510638</td>\n",
       "      <td>0.122905</td>\n",
       "      <td>0.142857</td>\n",
       "    </tr>\n",
       "    <tr>\n",
       "      <th>2017-04-01 02:00:00</th>\n",
       "      <td>0.317881</td>\n",
       "      <td>0.574468</td>\n",
       "      <td>0.078212</td>\n",
       "      <td>0.114286</td>\n",
       "    </tr>\n",
       "    <tr>\n",
       "      <th>2017-04-01 03:00:00</th>\n",
       "      <td>0.238411</td>\n",
       "      <td>0.361702</td>\n",
       "      <td>0.083799</td>\n",
       "      <td>0.085714</td>\n",
       "    </tr>\n",
       "    <tr>\n",
       "      <th>2017-04-01 04:00:00</th>\n",
       "      <td>0.225166</td>\n",
       "      <td>0.361702</td>\n",
       "      <td>0.055866</td>\n",
       "      <td>0.085714</td>\n",
       "    </tr>\n",
       "    <tr>\n",
       "      <th>...</th>\n",
       "      <td>...</td>\n",
       "      <td>...</td>\n",
       "      <td>...</td>\n",
       "      <td>...</td>\n",
       "    </tr>\n",
       "    <tr>\n",
       "      <th>2017-06-30 19:00:00</th>\n",
       "      <td>0.596026</td>\n",
       "      <td>0.702128</td>\n",
       "      <td>0.206704</td>\n",
       "      <td>0.457143</td>\n",
       "    </tr>\n",
       "    <tr>\n",
       "      <th>2017-06-30 20:00:00</th>\n",
       "      <td>0.662252</td>\n",
       "      <td>0.702128</td>\n",
       "      <td>0.178771</td>\n",
       "      <td>0.285714</td>\n",
       "    </tr>\n",
       "    <tr>\n",
       "      <th>2017-06-30 21:00:00</th>\n",
       "      <td>0.602649</td>\n",
       "      <td>0.723404</td>\n",
       "      <td>0.167598</td>\n",
       "      <td>0.828571</td>\n",
       "    </tr>\n",
       "    <tr>\n",
       "      <th>2017-06-30 22:00:00</th>\n",
       "      <td>0.562914</td>\n",
       "      <td>0.638298</td>\n",
       "      <td>0.150838</td>\n",
       "      <td>0.428571</td>\n",
       "    </tr>\n",
       "    <tr>\n",
       "      <th>2017-06-30 23:00:00</th>\n",
       "      <td>0.523179</td>\n",
       "      <td>0.595745</td>\n",
       "      <td>0.139665</td>\n",
       "      <td>0.600000</td>\n",
       "    </tr>\n",
       "  </tbody>\n",
       "</table>\n",
       "<p>2184 rows × 4 columns</p>\n",
       "</div>"
      ],
      "text/plain": [
       "                     Junction 1 (H-1)  Junction 2 (H-1)  Junction 3 (H-1)  \\\n",
       "DateTime                                                                    \n",
       "2017-04-01 00:00:00          0.417219          0.553191          0.162011   \n",
       "2017-04-01 01:00:00          0.384106          0.510638          0.122905   \n",
       "2017-04-01 02:00:00          0.317881          0.574468          0.078212   \n",
       "2017-04-01 03:00:00          0.238411          0.361702          0.083799   \n",
       "2017-04-01 04:00:00          0.225166          0.361702          0.055866   \n",
       "...                               ...               ...               ...   \n",
       "2017-06-30 19:00:00          0.596026          0.702128          0.206704   \n",
       "2017-06-30 20:00:00          0.662252          0.702128          0.178771   \n",
       "2017-06-30 21:00:00          0.602649          0.723404          0.167598   \n",
       "2017-06-30 22:00:00          0.562914          0.638298          0.150838   \n",
       "2017-06-30 23:00:00          0.523179          0.595745          0.139665   \n",
       "\n",
       "                     Junction 4 (H-1)  \n",
       "DateTime                               \n",
       "2017-04-01 00:00:00          0.142857  \n",
       "2017-04-01 01:00:00          0.142857  \n",
       "2017-04-01 02:00:00          0.114286  \n",
       "2017-04-01 03:00:00          0.085714  \n",
       "2017-04-01 04:00:00          0.085714  \n",
       "...                               ...  \n",
       "2017-06-30 19:00:00          0.457143  \n",
       "2017-06-30 20:00:00          0.285714  \n",
       "2017-06-30 21:00:00          0.828571  \n",
       "2017-06-30 22:00:00          0.428571  \n",
       "2017-06-30 23:00:00          0.600000  \n",
       "\n",
       "[2184 rows x 4 columns]"
      ]
     },
     "execution_count": 34,
     "metadata": {},
     "output_type": "execute_result"
    }
   ],
   "source": [
    "X_valid = Xy_train[Xy_train.index >='2017-04-01'].iloc[:,0:4]\n",
    "X_valid"
   ]
  },
  {
   "cell_type": "code",
   "execution_count": 35,
   "id": "b59ba8da",
   "metadata": {},
   "outputs": [],
   "source": [
    "X_valid=np.expand_dims(X_valid.values,axis=2)\n",
    "y_pred= regressor.predict(X_valid)"
   ]
  },
  {
   "cell_type": "code",
   "execution_count": 36,
   "id": "aa80db76",
   "metadata": {},
   "outputs": [
    {
     "data": {
      "text/plain": [
       "array([[66.71577746, 25.61495048, 26.22171098,  7.39425568],\n",
       "       [62.05988106, 23.68636447, 20.19051982,  6.87005727],\n",
       "       [50.59724125, 23.70859373, 12.9829032 ,  4.79038893],\n",
       "       ...,\n",
       "       [91.19871223, 27.91715604, 21.79060313, 27.44260496],\n",
       "       [84.18129426, 28.25030631, 24.30575174, 12.1881201 ],\n",
       "       [80.43915796, 24.58499783, 19.61983064, 17.50195792]])"
      ]
     },
     "execution_count": 36,
     "metadata": {},
     "output_type": "execute_result"
    }
   ],
   "source": [
    "# we rescale y in the integer count range\n",
    "# to do that we must first reconcatenate with the X data as scaler expects a shape of 8\n",
    "\n",
    "y_pred = scaler.inverse_transform(np.concatenate((X_valid.squeeze(), y_pred),axis=1))[:,4:]\n",
    "y_pred"
   ]
  },
  {
   "cell_type": "code",
   "execution_count": 37,
   "id": "0bb95089",
   "metadata": {},
   "outputs": [
    {
     "data": {
      "text/html": [
       "<div>\n",
       "<style scoped>\n",
       "    .dataframe tbody tr th:only-of-type {\n",
       "        vertical-align: middle;\n",
       "    }\n",
       "\n",
       "    .dataframe tbody tr th {\n",
       "        vertical-align: top;\n",
       "    }\n",
       "\n",
       "    .dataframe thead th {\n",
       "        text-align: right;\n",
       "    }\n",
       "</style>\n",
       "<table border=\"1\" class=\"dataframe\">\n",
       "  <thead>\n",
       "    <tr style=\"text-align: right;\">\n",
       "      <th>Junction</th>\n",
       "      <th>1</th>\n",
       "      <th>2</th>\n",
       "      <th>3</th>\n",
       "      <th>4</th>\n",
       "    </tr>\n",
       "    <tr>\n",
       "      <th>DateTime</th>\n",
       "      <th></th>\n",
       "      <th></th>\n",
       "      <th></th>\n",
       "      <th></th>\n",
       "    </tr>\n",
       "  </thead>\n",
       "  <tbody>\n",
       "    <tr>\n",
       "      <th>2017-04-01 00:00:00</th>\n",
       "      <td>63.0</td>\n",
       "      <td>25.0</td>\n",
       "      <td>23.0</td>\n",
       "      <td>6.0</td>\n",
       "    </tr>\n",
       "    <tr>\n",
       "      <th>2017-04-01 01:00:00</th>\n",
       "      <td>53.0</td>\n",
       "      <td>28.0</td>\n",
       "      <td>15.0</td>\n",
       "      <td>5.0</td>\n",
       "    </tr>\n",
       "    <tr>\n",
       "      <th>2017-04-01 02:00:00</th>\n",
       "      <td>41.0</td>\n",
       "      <td>18.0</td>\n",
       "      <td>16.0</td>\n",
       "      <td>4.0</td>\n",
       "    </tr>\n",
       "    <tr>\n",
       "      <th>2017-04-01 03:00:00</th>\n",
       "      <td>39.0</td>\n",
       "      <td>18.0</td>\n",
       "      <td>11.0</td>\n",
       "      <td>4.0</td>\n",
       "    </tr>\n",
       "    <tr>\n",
       "      <th>2017-04-01 04:00:00</th>\n",
       "      <td>31.0</td>\n",
       "      <td>15.0</td>\n",
       "      <td>10.0</td>\n",
       "      <td>1.0</td>\n",
       "    </tr>\n",
       "    <tr>\n",
       "      <th>...</th>\n",
       "      <td>...</td>\n",
       "      <td>...</td>\n",
       "      <td>...</td>\n",
       "      <td>...</td>\n",
       "    </tr>\n",
       "    <tr>\n",
       "      <th>2017-06-30 19:00:00</th>\n",
       "      <td>105.0</td>\n",
       "      <td>34.0</td>\n",
       "      <td>33.0</td>\n",
       "      <td>11.0</td>\n",
       "    </tr>\n",
       "    <tr>\n",
       "      <th>2017-06-30 20:00:00</th>\n",
       "      <td>96.0</td>\n",
       "      <td>35.0</td>\n",
       "      <td>31.0</td>\n",
       "      <td>30.0</td>\n",
       "    </tr>\n",
       "    <tr>\n",
       "      <th>2017-06-30 21:00:00</th>\n",
       "      <td>90.0</td>\n",
       "      <td>31.0</td>\n",
       "      <td>28.0</td>\n",
       "      <td>16.0</td>\n",
       "    </tr>\n",
       "    <tr>\n",
       "      <th>2017-06-30 22:00:00</th>\n",
       "      <td>84.0</td>\n",
       "      <td>29.0</td>\n",
       "      <td>26.0</td>\n",
       "      <td>22.0</td>\n",
       "    </tr>\n",
       "    <tr>\n",
       "      <th>2017-06-30 23:00:00</th>\n",
       "      <td>78.0</td>\n",
       "      <td>27.0</td>\n",
       "      <td>39.0</td>\n",
       "      <td>12.0</td>\n",
       "    </tr>\n",
       "  </tbody>\n",
       "</table>\n",
       "<p>2184 rows × 4 columns</p>\n",
       "</div>"
      ],
      "text/plain": [
       "Junction                 1     2     3     4\n",
       "DateTime                                    \n",
       "2017-04-01 00:00:00   63.0  25.0  23.0   6.0\n",
       "2017-04-01 01:00:00   53.0  28.0  15.0   5.0\n",
       "2017-04-01 02:00:00   41.0  18.0  16.0   4.0\n",
       "2017-04-01 03:00:00   39.0  18.0  11.0   4.0\n",
       "2017-04-01 04:00:00   31.0  15.0  10.0   1.0\n",
       "...                    ...   ...   ...   ...\n",
       "2017-06-30 19:00:00  105.0  34.0  33.0  11.0\n",
       "2017-06-30 20:00:00   96.0  35.0  31.0  30.0\n",
       "2017-06-30 21:00:00   90.0  31.0  28.0  16.0\n",
       "2017-06-30 22:00:00   84.0  29.0  26.0  22.0\n",
       "2017-06-30 23:00:00   78.0  27.0  39.0  12.0\n",
       "\n",
       "[2184 rows x 4 columns]"
      ]
     },
     "execution_count": 37,
     "metadata": {},
     "output_type": "execute_result"
    }
   ],
   "source": [
    "y_truth= train[train.index >= '2017-04-01']\n",
    "y_truth"
   ]
  },
  {
   "cell_type": "markdown",
   "id": "eba6172b",
   "metadata": {},
   "source": [
    "# Visualizing the data"
   ]
  },
  {
   "cell_type": "code",
   "execution_count": 38,
   "id": "57fc581d",
   "metadata": {},
   "outputs": [],
   "source": [
    "import matplotlib.pyplot as plt"
   ]
  },
  {
   "cell_type": "code",
   "execution_count": 39,
   "id": "fcb138ab",
   "metadata": {},
   "outputs": [
    {
     "data": {
      "image/png": "[encoded data removed]",
      "text/plain": [
       "<Figure size 432x288 with 1 Axes>"
      ]
     },
     "metadata": {
      "needs_background": "light"
     },
     "output_type": "display_data"
    },
    {
     "data": {
      "image/png": "[encoded data removed]",
      "text/plain": [
       "<Figure size 432x288 with 1 Axes>"
      ]
     },
     "metadata": {
      "needs_background": "light"
     },
     "output_type": "display_data"
    },
    {
     "data": {
      "image/png": "[encoded data removed]",
      "text/plain": [
       "<Figure size 432x288 with 1 Axes>"
      ]
     },
     "metadata": {
      "needs_background": "light"
     },
     "output_type": "display_data"
    },
    {
     "data": {
      "image/png": "[encoded data removed]",
      "text/plain": [
       "<Figure size 432x288 with 1 Axes>"
      ]
     },
     "metadata": {
      "needs_background": "light"
     },
     "output_type": "display_data"
    }
   ],
   "source": [
    "# Visualising Result for the junctions\n",
    "for junction in range(4):\n",
    "    plt.figure\n",
    "    plt.plot(y_truth.values[:,junction],color='green', label='Real traffic')\n",
    "    plt.plot(y_pred[:,junction],color='red',label ='Predicted traffic')\n",
    "    plt.title('Traffic Forecasting at junction %i' % (junction+1))\n",
    "    plt.xlabel('Number of hours from Start')\n",
    "    plt.ylabel('Traffic')\n",
    "    plt.legend()\n",
    "    plt.show()"
   ]
  },
  {
   "cell_type": "code",
   "execution_count": 40,
   "id": "9b261331",
   "metadata": {},
   "outputs": [],
   "source": [
    "from sklearn.metrics import mean_squared_error\n",
    "from math import sqrt\n",
    "\n",
    "def rmse(y_true,y_pred):\n",
    "    return sqrt(mean_squared_error(y_true, y_pred))"
   ]
  },
  {
   "cell_type": "code",
   "execution_count": 41,
   "id": "ab0fa5aa",
   "metadata": {},
   "outputs": [
    {
     "data": {
      "text/plain": [
       "5.874290831713621"
      ]
     },
     "execution_count": 41,
     "metadata": {},
     "output_type": "execute_result"
    }
   ],
   "source": [
    "rmse(y_truth,y_pred)"
   ]
  },
  {
   "cell_type": "code",
   "execution_count": 42,
   "id": "d9307902",
   "metadata": {},
   "outputs": [
    {
     "name": "stdout",
     "output_type": "stream",
     "text": [
      "[['2015-11-01 00:00:00' 1 15 20151101001]\n",
      " ['2015-11-01 01:00:00' 1 13 20151101011]\n",
      " ['2015-11-01 02:00:00' 1 10 20151101021]\n",
      " ...\n",
      " ['2017-06-30 21:00:00' 4 16 20170630214]\n",
      " ['2017-06-30 22:00:00' 4 22 20170630224]\n",
      " ['2017-06-30 23:00:00' 4 12 20170630234]]\n"
     ]
    }
   ],
   "source": [
    "trdf = pd.read_csv('train_aWnotuB.csv')\n",
    "trainMat= trdf.values\n",
    "tedf = pd.read_csv('test_BdBKkAj.csv')\n",
    "testMat=tedf.values\n",
    "train=[]\n",
    "target=[]\n",
    "print(trainMat)\n",
    "for i in trainMat:\n",
    "    s=i[3]\n",
    "    year=s/(10**7)\n",
    "    s=s%(10**7)\n",
    "    month=s/(10**5)\n",
    "    s=s%(10**5)\n",
    "    date=s/(10**3)\n",
    "    s=s%(10**3)\n",
    "    time=s/(10)\n",
    "    s=s%(10)\n",
    "    junction =s\n",
    "    train.append([year,month,date,time,junction])\n",
    "    target.append(i[2])\n",
    "X= np.array(train)\n",
    "y=np.array(target)"
   ]
  },
  {
   "cell_type": "code",
   "execution_count": 43,
   "id": "305a9aad",
   "metadata": {},
   "outputs": [
    {
     "name": "stdout",
     "output_type": "stream",
     "text": [
      "608 608 608 608\n",
      "243.45977011494253\n",
      "365.4942528735632\n",
      "397.367816091954\n",
      "394.0\n",
      "384.632183908046\n",
      "358.62068965517244\n",
      "249.90697674418604\n",
      "14.174342105263158\n",
      "9.856907894736842\n",
      "8.055921052631579\n",
      "6.776315789473684\n",
      "5.978618421052632\n",
      "5.685855263157895\n",
      "6.2368421052631575\n",
      "7.550986842105263\n",
      "9.057565789473685\n",
      "11.429276315789474\n",
      "15.004934210526315\n",
      "17.1875\n",
      "17.707236842105264\n",
      "16.049342105263158\n",
      "17.57236842105263\n",
      "17.37171052631579\n",
      "16.88157894736842\n",
      "16.901315789473685\n",
      "17.929276315789473\n",
      "19.129934210526315\n",
      "20.200657894736842\n",
      "18.72203947368421\n",
      "17.394736842105264\n",
      "15.800986842105264\n"
     ]
    }
   ],
   "source": [
    "jun1=[]\n",
    "jun2=[]\n",
    "jun3=[]\n",
    "jun4=[]\n",
    "jun5=[]\n",
    "jun=[jun1,jun2,jun3,jun4,jun5]\n",
    "for i in range(0,len(train),24):\n",
    "    ct=0\n",
    "    for j in range(24):\n",
    "        ct+=target[i+j]\n",
    "    jun[train[i][4]-1].append(ct)\n",
    "jun[3]=[0]*(len(jun[0])-len(jun[3]))+jun[3]\n",
    "print(len(jun[0]),len(jun[1]),len(jun[2]),len(jun[3]))\n",
    "\n",
    "k=7\n",
    "week=[[] for i in range(k)]\n",
    "for i in range(len(jun[1])):\n",
    "    week[i%k].append(jun[1][i])\n",
    "for i in range(k):\n",
    "    print(np.mean(week[i]))\n",
    "hour=[[] for i in range(24)]\n",
    "for i in range(len(jun[0])*24+len(jun[1])*24, len(jun[0])*24+len(jun[1])*24+len(jun[2])*24):\n",
    "    hour[i%24].append(target[i])\n",
    "for i in range(24):\n",
    "    print(np.mean(hour[i]))\n",
    "\n",
    "temp=[-i for i in jun[3]]\n",
    "jun[4]=np.add(jun[2],temp)"
   ]
  },
  {
   "cell_type": "code",
   "execution_count": 44,
   "id": "b5a254af",
   "metadata": {},
   "outputs": [
    {
     "data": {
      "image/png": "[encoded data removed]",
      "text/plain": [
       "<Figure size 432x288 with 1 Axes>"
      ]
     },
     "metadata": {
      "needs_background": "light"
     },
     "output_type": "display_data"
    },
    {
     "data": {
      "image/png": "[encoded data removed]",
      "text/plain": [
       "<Figure size 432x288 with 1 Axes>"
      ]
     },
     "metadata": {
      "needs_background": "light"
     },
     "output_type": "display_data"
    },
    {
     "data": {
      "image/png": "[encoded data removed]",
      "text/plain": [
       "<Figure size 432x288 with 1 Axes>"
      ]
     },
     "metadata": {
      "needs_background": "light"
     },
     "output_type": "display_data"
    },
    {
     "data": {
      "image/png": "[encoded data removed]",
      "text/plain": [
       "<Figure size 432x288 with 1 Axes>"
      ]
     },
     "metadata": {
      "needs_background": "light"
     },
     "output_type": "display_data"
    },
    {
     "data": {
      "image/png": "[encoded data removed]",
      "text/plain": [
       "<Figure size 432x288 with 1 Axes>"
      ]
     },
     "metadata": {
      "needs_background": "light"
     },
     "output_type": "display_data"
    },
    {
     "data": {
      "image/png": "[encoded data removed]",
      "text/plain": [
       "<Figure size 432x288 with 1 Axes>"
      ]
     },
     "metadata": {
      "needs_background": "light"
     },
     "output_type": "display_data"
    },
    {
     "data": {
      "image/png": "[encoded data removed]",
      "text/plain": [
       "<Figure size 432x288 with 1 Axes>"
      ]
     },
     "metadata": {
      "needs_background": "light"
     },
     "output_type": "display_data"
    }
   ],
   "source": [
    "import matplotlib.pyplot as plt\n",
    "for i in range(len(week)):\n",
    "    plt.plot(week[i],'blue')\n",
    "    plt.show()"
   ]
  },
  {
   "cell_type": "code",
   "execution_count": 45,
   "id": "d76aafcc",
   "metadata": {},
   "outputs": [
    {
     "data": {
      "image/png": "[encoded data removed]",
      "text/plain": [
       "<Figure size 720x720 with 1 Axes>"
      ]
     },
     "metadata": {
      "needs_background": "light"
     },
     "output_type": "display_data"
    },
    {
     "data": {
      "image/png": "[encoded data removed]",
      "text/plain": [
       "<Figure size 432x288 with 1 Axes>"
      ]
     },
     "metadata": {
      "needs_background": "light"
     },
     "output_type": "display_data"
    },
    {
     "data": {
      "image/png": "[encoded data removed]",
      "text/plain": [
       "<Figure size 432x288 with 1 Axes>"
      ]
     },
     "metadata": {
      "needs_background": "light"
     },
     "output_type": "display_data"
    },
    {
     "data": {
      "image/png": "[encoded data removed]",
      "text/plain": [
       "<Figure size 432x288 with 1 Axes>"
      ]
     },
     "metadata": {
      "needs_background": "light"
     },
     "output_type": "display_data"
    },
    {
     "data": {
      "image/png": "[encoded data removed]",
      "text/plain": [
       "<Figure size 432x288 with 1 Axes>"
      ]
     },
     "metadata": {
      "needs_background": "light"
     },
     "output_type": "display_data"
    }
   ],
   "source": [
    "import matplotlib.pyplot as plt\n",
    "plt.figure(figsize=(10,10))\n",
    "plt.plot(jun[0],'yellow')\n",
    "plt.show()\n",
    "plt.plot(jun[1],'red')\n",
    "plt.show()\n",
    "plt.plot(jun[2],'green')\n",
    "plt.show()\n",
    "plt.plot(jun[3],'blue')\n",
    "plt.show()\n",
    "plt.plot(jun[4],'red')\n",
    "plt.show()"
   ]
  },
  {
   "cell_type": "markdown",
   "id": "d00a58a6",
   "metadata": {},
   "source": [
    "# Random Forest Classifier"
   ]
  },
  {
   "cell_type": "code",
   "execution_count": 46,
   "id": "6f2bb2d9",
   "metadata": {},
   "outputs": [],
   "source": [
    "from sklearn.model_selection import StratifiedKFold\n",
    "skf=StratifiedKFold(n_splits=7)\n",
    "from sklearn.ensemble import RandomForestClassifier\n",
    "clf=RandomForestClassifier(criterion='entropy',min_samples_split=100,min_samples_leaf=10,max_depth=12)\n",
    "import numpy as np\n",
    "from sklearn.metrics import accuracy_score\n",
    "from sklearn.metrics import mean_squared_error\n",
    "from math import sqrt"
   ]
  },
  {
   "cell_type": "code",
   "execution_count": 47,
   "id": "549e3aea",
   "metadata": {},
   "outputs": [
    {
     "name": "stdout",
     "output_type": "stream",
     "text": [
      "Accuracy Score for Random Forest : 103.35619285120531\n"
     ]
    }
   ],
   "source": [
    "clf.fit(X,y)\n",
    "pred = clf.predict(X)\n",
    "val1=(accuracy_score(y,pred)*100)\n",
    "print(\"Accuracy Score for Random Forest :\",val1*5)"
   ]
  },
  {
   "cell_type": "code",
   "execution_count": 48,
   "id": "b48d6c4b",
   "metadata": {},
   "outputs": [],
   "source": [
    "from sklearn.metrics import mean_squared_error\n",
    "from math import sqrt\n",
    "\n",
    "def rmse1(y_true,y_pred):\n",
    "    return sqrt(mean_squared_error(y_true, y_pred))"
   ]
  },
  {
   "cell_type": "code",
   "execution_count": 49,
   "id": "0e95069c",
   "metadata": {},
   "outputs": [
    {
     "data": {
      "text/plain": [
       "7.869291463001978"
      ]
     },
     "execution_count": 49,
     "metadata": {},
     "output_type": "execute_result"
    }
   ],
   "source": [
    "rmse1(y,pred)"
   ]
  },
  {
   "cell_type": "markdown",
   "id": "c4726c8d",
   "metadata": {},
   "source": [
    "# Decision Tree Classifier"
   ]
  },
  {
   "cell_type": "code",
   "execution_count": 50,
   "id": "53bf97e1",
   "metadata": {},
   "outputs": [
    {
     "name": "stdout",
     "output_type": "stream",
     "text": [
      "Accuracy score for Decision tree classifer :  500.0\n"
     ]
    }
   ],
   "source": [
    "from sklearn.tree import DecisionTreeClassifier\n",
    "DT = DecisionTreeClassifier()\n",
    "DT.fit(X,y)\n",
    "pred2 = DT.predict(X)\n",
    "val2= (accuracy_score(y,pred2)*100)\n",
    "print(\"Accuracy score for Decision tree classifer : \",val2*5)"
   ]
  },
  {
   "cell_type": "markdown",
   "id": "25f9af14",
   "metadata": {},
   "source": [
    "# Support Vector Machine"
   ]
  },
  {
   "cell_type": "code",
   "execution_count": null,
   "id": "c517dcb8",
   "metadata": {},
   "outputs": [],
   "source": [
    "from sklearn.svm import SVC \n",
    "SVM = SVC(kernel='linear')\n",
    "SVM.fit(X,y)\n",
    "predictions = SVM.predict(X)\n",
    "val3= (accuracy_score(y,pred)*100)\n",
    "print(\"Accuracy score for SVM : \",val3*5)"
   ]
  },
  {
   "cell_type": "markdown",
   "id": "2b3b8ddc",
   "metadata": {},
   "source": [
    "# XGBoosting"
   ]
  },
  {
   "cell_type": "code",
   "execution_count": 52,
   "id": "fbea87f5",
   "metadata": {},
   "outputs": [
    {
     "name": "stderr",
     "output_type": "stream",
     "text": [
      "c:\\users\\hp\\appdata\\local\\programs\\python\\python39\\lib\\site-packages\\xgboost\\sklearn.py:1395: UserWarning: `use_label_encoder` is deprecated in 1.7.0.\n",
      "  warnings.warn(\"`use_label_encoder` is deprecated in 1.7.0.\")\n"
     ]
    },
    {
     "ename": "ValueError",
     "evalue": "Invalid classes inferred from unique values of `y`.  Expected: [  0   1   2   3   4   5   6   7   8   9  10  11  12  13  14  15  16  17\n  18  19  20  21  22  23  24  25  26  27  28  29  30  31  32  33  34  35\n  36  37  38  39  40  41  42  43  44  45  46  47  48  49  50  51  52  53\n  54  55  56  57  58  59  60  61  62  63  64  65  66  67  68  69  70  71\n  72  73  74  75  76  77  78  79  80  81  82  83  84  85  86  87  88  89\n  90  91  92  93  94  95  96  97  98  99 100 101 102 103 104 105 106 107\n 108 109 110 111 112 113 114 115 116 117 118 119 120 121 122 123 124 125\n 126 127 128 129 130 131 132 133 134 135 136 137 138 139 140], got [  1   2   3   4   5   6   7   8   9  10  11  12  13  14  15  16  17  18\n  19  20  21  22  23  24  25  26  27  28  29  30  31  32  33  34  35  36\n  37  38  39  40  41  42  43  44  45  46  47  48  49  50  51  52  53  54\n  55  56  57  58  59  60  61  62  63  64  65  66  67  68  69  70  71  72\n  73  74  75  76  77  78  79  80  81  82  83  84  85  86  87  88  89  90\n  91  92  93  94  95  96  97  98  99 100 101 102 103 104 105 106 107 108\n 109 110 111 112 113 114 115 116 117 118 119 120 121 122 123 124 125 126\n 127 128 129 132 133 134 135 136 140 141 143 156 162 173 180]",
     "output_type": "error",
     "traceback": [
      "\u001b[1;31m---------------------------------------------------------------------------\u001b[0m",
      "\u001b[1;31mValueError\u001b[0m                                Traceback (most recent call last)",
      "\u001b[1;32m~\\AppData\\Local\\Temp/ipykernel_11292/1122830376.py\u001b[0m in \u001b[0;36m<module>\u001b[1;34m\u001b[0m\n\u001b[0;32m      1\u001b[0m \u001b[1;32mfrom\u001b[0m \u001b[0mxgboost\u001b[0m \u001b[1;32mimport\u001b[0m \u001b[0mXGBClassifier\u001b[0m\u001b[1;33m\u001b[0m\u001b[1;33m\u001b[0m\u001b[0m\n\u001b[0;32m      2\u001b[0m \u001b[0mXGboost\u001b[0m \u001b[1;33m=\u001b[0m \u001b[0mXGBClassifier\u001b[0m\u001b[1;33m(\u001b[0m\u001b[0muse_label_encoder\u001b[0m\u001b[1;33m=\u001b[0m\u001b[1;32mFalse\u001b[0m\u001b[1;33m,\u001b[0m\u001b[0mobjective\u001b[0m\u001b[1;33m=\u001b[0m\u001b[1;34m\"multi:softmax\"\u001b[0m\u001b[1;33m,\u001b[0m\u001b[0meval_metric\u001b[0m\u001b[1;33m=\u001b[0m\u001b[1;34m\"merror\"\u001b[0m\u001b[1;33m,\u001b[0m\u001b[0mn_estimators\u001b[0m\u001b[1;33m=\u001b[0m\u001b[1;36m20\u001b[0m\u001b[1;33m,\u001b[0m\u001b[0mmax_depth\u001b[0m\u001b[1;33m=\u001b[0m\u001b[1;36m10\u001b[0m\u001b[1;33m,\u001b[0m\u001b[0mrandom_state\u001b[0m\u001b[1;33m=\u001b[0m\u001b[1;36m42\u001b[0m\u001b[1;33m)\u001b[0m\u001b[1;33m\u001b[0m\u001b[1;33m\u001b[0m\u001b[0m\n\u001b[1;32m----> 3\u001b[1;33m \u001b[0mXGboost\u001b[0m\u001b[1;33m.\u001b[0m\u001b[0mfit\u001b[0m\u001b[1;33m(\u001b[0m\u001b[0mX\u001b[0m\u001b[1;33m,\u001b[0m\u001b[0my\u001b[0m\u001b[1;33m)\u001b[0m\u001b[1;33m\u001b[0m\u001b[1;33m\u001b[0m\u001b[0m\n\u001b[0m\u001b[0;32m      4\u001b[0m \u001b[0mpred4\u001b[0m\u001b[1;33m=\u001b[0m\u001b[0mXGboost\u001b[0m\u001b[1;33m.\u001b[0m\u001b[0mpredict\u001b[0m\u001b[1;33m(\u001b[0m\u001b[0mX\u001b[0m\u001b[1;33m)\u001b[0m\u001b[1;33m\u001b[0m\u001b[1;33m\u001b[0m\u001b[0m\n\u001b[0;32m      5\u001b[0m \u001b[0mval4\u001b[0m\u001b[1;33m=\u001b[0m\u001b[1;33m(\u001b[0m\u001b[0maccuracy_score\u001b[0m\u001b[1;33m(\u001b[0m\u001b[0my\u001b[0m\u001b[1;33m,\u001b[0m\u001b[0mpred4\u001b[0m\u001b[1;33m)\u001b[0m\u001b[1;33m*\u001b[0m\u001b[1;36m100\u001b[0m\u001b[1;33m)\u001b[0m\u001b[1;33m\u001b[0m\u001b[1;33m\u001b[0m\u001b[0m\n",
      "\u001b[1;32mc:\\users\\hp\\appdata\\local\\programs\\python\\python39\\lib\\site-packages\\xgboost\\core.py\u001b[0m in \u001b[0;36minner_f\u001b[1;34m(*args, **kwargs)\u001b[0m\n\u001b[0;32m    618\u001b[0m             \u001b[1;32mfor\u001b[0m \u001b[0mk\u001b[0m\u001b[1;33m,\u001b[0m \u001b[0marg\u001b[0m \u001b[1;32min\u001b[0m \u001b[0mzip\u001b[0m\u001b[1;33m(\u001b[0m\u001b[0msig\u001b[0m\u001b[1;33m.\u001b[0m\u001b[0mparameters\u001b[0m\u001b[1;33m,\u001b[0m \u001b[0margs\u001b[0m\u001b[1;33m)\u001b[0m\u001b[1;33m:\u001b[0m\u001b[1;33m\u001b[0m\u001b[1;33m\u001b[0m\u001b[0m\n\u001b[0;32m    619\u001b[0m                 \u001b[0mkwargs\u001b[0m\u001b[1;33m[\u001b[0m\u001b[0mk\u001b[0m\u001b[1;33m]\u001b[0m \u001b[1;33m=\u001b[0m \u001b[0marg\u001b[0m\u001b[1;33m\u001b[0m\u001b[1;33m\u001b[0m\u001b[0m\n\u001b[1;32m--> 620\u001b[1;33m             \u001b[1;32mreturn\u001b[0m \u001b[0mfunc\u001b[0m\u001b[1;33m(\u001b[0m\u001b[1;33m**\u001b[0m\u001b[0mkwargs\u001b[0m\u001b[1;33m)\u001b[0m\u001b[1;33m\u001b[0m\u001b[1;33m\u001b[0m\u001b[0m\n\u001b[0m\u001b[0;32m    621\u001b[0m \u001b[1;33m\u001b[0m\u001b[0m\n\u001b[0;32m    622\u001b[0m         \u001b[1;32mreturn\u001b[0m \u001b[0minner_f\u001b[0m\u001b[1;33m\u001b[0m\u001b[1;33m\u001b[0m\u001b[0m\n",
      "\u001b[1;32mc:\\users\\hp\\appdata\\local\\programs\\python\\python39\\lib\\site-packages\\xgboost\\sklearn.py\u001b[0m in \u001b[0;36mfit\u001b[1;34m(self, X, y, sample_weight, base_margin, eval_set, eval_metric, early_stopping_rounds, verbose, xgb_model, sample_weight_eval_set, base_margin_eval_set, feature_weights, callbacks)\u001b[0m\n\u001b[0;32m   1438\u001b[0m                 \u001b[1;32mor\u001b[0m \u001b[1;32mnot\u001b[0m \u001b[1;33m(\u001b[0m\u001b[0mself\u001b[0m\u001b[1;33m.\u001b[0m\u001b[0mclasses_\u001b[0m \u001b[1;33m==\u001b[0m \u001b[0mexpected_classes\u001b[0m\u001b[1;33m)\u001b[0m\u001b[1;33m.\u001b[0m\u001b[0mall\u001b[0m\u001b[1;33m(\u001b[0m\u001b[1;33m)\u001b[0m\u001b[1;33m\u001b[0m\u001b[1;33m\u001b[0m\u001b[0m\n\u001b[0;32m   1439\u001b[0m             ):\n\u001b[1;32m-> 1440\u001b[1;33m                 raise ValueError(\n\u001b[0m\u001b[0;32m   1441\u001b[0m                     \u001b[1;34mf\"Invalid classes inferred from unique values of `y`.  \"\u001b[0m\u001b[1;33m\u001b[0m\u001b[1;33m\u001b[0m\u001b[0m\n\u001b[0;32m   1442\u001b[0m                     \u001b[1;34mf\"Expected: {expected_classes}, got {self.classes_}\"\u001b[0m\u001b[1;33m\u001b[0m\u001b[1;33m\u001b[0m\u001b[0m\n",
      "\u001b[1;31mValueError\u001b[0m: Invalid classes inferred from unique values of `y`.  Expected: [  0   1   2   3   4   5   6   7   8   9  10  11  12  13  14  15  16  17\n  18  19  20  21  22  23  24  25  26  27  28  29  30  31  32  33  34  35\n  36  37  38  39  40  41  42  43  44  45  46  47  48  49  50  51  52  53\n  54  55  56  57  58  59  60  61  62  63  64  65  66  67  68  69  70  71\n  72  73  74  75  76  77  78  79  80  81  82  83  84  85  86  87  88  89\n  90  91  92  93  94  95  96  97  98  99 100 101 102 103 104 105 106 107\n 108 109 110 111 112 113 114 115 116 117 118 119 120 121 122 123 124 125\n 126 127 128 129 130 131 132 133 134 135 136 137 138 139 140], got [  1   2   3   4   5   6   7   8   9  10  11  12  13  14  15  16  17  18\n  19  20  21  22  23  24  25  26  27  28  29  30  31  32  33  34  35  36\n  37  38  39  40  41  42  43  44  45  46  47  48  49  50  51  52  53  54\n  55  56  57  58  59  60  61  62  63  64  65  66  67  68  69  70  71  72\n  73  74  75  76  77  78  79  80  81  82  83  84  85  86  87  88  89  90\n  91  92  93  94  95  96  97  98  99 100 101 102 103 104 105 106 107 108\n 109 110 111 112 113 114 115 116 117 118 119 120 121 122 123 124 125 126\n 127 128 129 132 133 134 135 136 140 141 143 156 162 173 180]"
     ]
    }
   ],
   "source": [
    "from xgboost import XGBClassifier\n",
    "XGboost = XGBClassifier(use_label_encoder=False,objective=\"multi:softmax\",eval_metric=\"merror\",n_estimators=20,max_depth=10,random_state=42)\n",
    "XGboost.fit(X,y)\n",
    "pred4=XGboost.predict(X)\n",
    "val4=(accuracy_score(y,pred4)*100)\n",
    "print(\"Accuracy score for XGBoosting : \",val4*5)"
   ]
  },
  {
   "cell_type": "code",
   "execution_count": null,
   "id": "25f20c81",
   "metadata": {},
   "outputs": [],
   "source": [
    "import numpy as np\n",
    "import pandas as pd\n",
    "import matplotlib.pyplot as plt\n",
    "\n",
    "#Bring some raw data\n",
    "frequencies =[val1,val2,val3,val4]\n",
    "freq_series = pd.Series.from_array(frequencies)\n",
    "\n",
    "x_labels = ['Rf','DT','SVM','XGBoost']\n",
    "\n",
    "#plot the figure\n",
    "plt.figure(figsize=(12,8))\n",
    "ax= freq_series.plot(kind='bar')\n",
    "ax.set_title('Evaluation of ML & Dl')\n",
    "ax.set_xlabel('Classifier')\n",
    "ax.set_ylabel('Accuracy Range')\n",
    "ax.set_xticklabels(x_labels)\n",
    "\n",
    "def add_value_labels(ax,spacing=5):\n",
    "    #for each bar: Place a label\n",
    "    for rect in ax.patches:\n",
    "        y_value= rect.get_height()\n",
    "        x_value= rect.get_x() + rect.get_width()/2\n",
    "        space=spacing\n",
    "        va='bottom'\n",
    "        if y_value<0:     \n",
    "            space*=-1\n",
    "            va='top'\n",
    "        label =\"{:.1f}\".format(y_value)\n",
    "    \n",
    "    #create annotation\n",
    "        ax.annotate(label,\n",
    "                    (x_value,y_value),\n",
    "                   xytext=(0,space),\n",
    "                   textcoords=\"offset points\",\n",
    "                   ha='center',\n",
    "                   va=va)\n",
    "# Call the function above. All the magic happens there.\n",
    "add_value_labels(ax)\n",
    "plt.show()"
   ]
  },
  {
   "cell_type": "markdown",
   "id": "1156aedc",
   "metadata": {},
   "source": [
    "###### "
   ]
  }
 ],
 "metadata": {
  "kernelspec": {
   "display_name": "Python 3 (ipykernel)",
   "language": "python",
   "name": "python3"
  },
  "language_info": {
   "codemirror_mode": {
    "name": "ipython",
    "version": 3
   },
   "file_extension": ".py",
   "mimetype": "text/x-python",
   "name": "python",
   "nbconvert_exporter": "python",
   "pygments_lexer": "ipython3",
   "version": "3.9.1"
  }
 },
 "nbformat": 4,
 "nbformat_minor": 5
}
